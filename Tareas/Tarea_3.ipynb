{
  "nbformat": 4,
  "nbformat_minor": 0,
  "metadata": {
    "colab": {
      "name": "Tarea_3.ipynb",
      "provenance": [],
      "authorship_tag": "ABX9TyMwz199HAX4+xfu1pwIuIQv",
      "include_colab_link": true
    },
    "kernelspec": {
      "name": "python3",
      "display_name": "Python 3"
    },
    "language_info": {
      "name": "python"
    }
  },
  "cells": [
    {
      "cell_type": "markdown",
      "metadata": {
        "id": "view-in-github",
        "colab_type": "text"
      },
      "source": [
        "<a href=\"https://colab.research.google.com/github/GuillermoSego/TSF/blob/main/Tarea_3.ipynb\" target=\"_parent\"><img src=\"https://colab.research.google.com/assets/colab-badge.svg\" alt=\"Open In Colab\"/></a>"
      ]
    },
    {
      "cell_type": "markdown",
      "source": [
        "## Tarea 3\n",
        "\n",
        "Haga un programa en el que a partir de un vector, se pueda imprimir una matriz mxn y determine su matriz transpuesta."
      ],
      "metadata": {
        "id": "ppiILIv1YOPN"
      }
    },
    {
      "cell_type": "code",
      "execution_count": 7,
      "metadata": {
        "colab": {
          "base_uri": "https://localhost:8080/"
        },
        "id": "CcsxyT8ANeQ2",
        "outputId": "6b4900ce-0293-4f1d-dfd1-041bd60e617d"
      },
      "outputs": [
        {
          "output_type": "stream",
          "name": "stdout",
          "text": [
            "Overwriting matrix.c\n"
          ]
        }
      ],
      "source": [
        "%%writefile matrix.c\n",
        "\n",
        "#include <stdio.h>\n",
        "\n",
        "#define M 4\n",
        "#define N 3\n",
        "\n",
        "// Imprimimos la matriz mxn\n",
        "\n",
        "void MatrixShow(int m, int n, int v[]){\n",
        "    \n",
        "    int i, j, k=0;\n",
        "    \n",
        "    for(i=0 ; i<m ; i++){\n",
        "        \n",
        "        for (j=0 ; j<n ; j ++){\n",
        "            \n",
        "            printf(\"%d \\t\", v[k]);\n",
        "            k ++;\n",
        "        }\n",
        "        \n",
        "        printf(\"\\n\");\n",
        "    }\n",
        "}\n",
        "\n",
        "// Imprimimos la matriz transpuesta\n",
        "void MatrixT(int m, int n, int v[]){\n",
        "    \n",
        "    int i, j, k;\n",
        "    \n",
        "    for (i=0; i<n; i++){\n",
        "        \n",
        "        k = i;\n",
        "        \n",
        "        for(j=0; j<m; j++){\n",
        "            \n",
        "            printf(\"%d \\t\", v[k]);\n",
        "            k=k+n;\n",
        "            \n",
        "        }\n",
        "        \n",
        "        printf(\"\\n\");\n",
        "        \n",
        "    }\n",
        "    \n",
        "}\n",
        "\n",
        "int main()\n",
        "{\n",
        "    int vector[]= {1,2,3,4,5,6,7,8,9,10,11,12};\n",
        "    \n",
        "    printf( \"La matriz de %d x %d \\n\", M, N );\n",
        "    MatrixShow(M,N, vector);\n",
        "    \n",
        "    printf(\"\\n\");\n",
        "    \n",
        "    printf( \"La matriz transpuesta de %d x %d \\n\", N, M );\n",
        "    MatrixT(4,3, vector);\n",
        "\n",
        "    return 0;\n",
        "}\n"
      ]
    },
    {
      "cell_type": "code",
      "source": [
        "%%shell \n",
        "gcc matrix.c -o matrix\n",
        "./matrix"
      ],
      "metadata": {
        "colab": {
          "base_uri": "https://localhost:8080/"
        },
        "id": "eWA-nE5sZe6C",
        "outputId": "43f00ff8-fdd5-4621-8eb5-d0e88e0342c1"
      },
      "execution_count": 8,
      "outputs": [
        {
          "output_type": "stream",
          "name": "stdout",
          "text": [
            "La matriz de 4 x 3 \n",
            "1 \t2 \t3 \t\n",
            "4 \t5 \t6 \t\n",
            "7 \t8 \t9 \t\n",
            "10 \t11 \t12 \t\n",
            "\n",
            "La matriz transpuesta de 3 x 4 \n",
            "1 \t4 \t7 \t10 \t\n",
            "2 \t5 \t8 \t11 \t\n",
            "3 \t6 \t9 \t12 \t\n"
          ]
        },
        {
          "output_type": "execute_result",
          "data": {
            "text/plain": [
              ""
            ]
          },
          "metadata": {},
          "execution_count": 8
        }
      ]
    }
  ]
}