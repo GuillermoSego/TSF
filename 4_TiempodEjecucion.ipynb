{
  "nbformat": 4,
  "nbformat_minor": 0,
  "metadata": {
    "colab": {
      "name": "4_TiempodEjecucion.ipynb",
      "provenance": [],
      "authorship_tag": "ABX9TyP9AX+TZDLvdizEqYYXj5S9",
      "include_colab_link": true
    },
    "kernelspec": {
      "name": "python3",
      "display_name": "Python 3"
    },
    "language_info": {
      "name": "python"
    }
  },
  "cells": [
    {
      "cell_type": "markdown",
      "metadata": {
        "id": "view-in-github",
        "colab_type": "text"
      },
      "source": [
        "<a href=\"https://colab.research.google.com/github/GuillermoSego/TSF/blob/main/4_TiempodEjecucion.ipynb\" target=\"_parent\"><img src=\"https://colab.research.google.com/assets/colab-badge.svg\" alt=\"Open In Colab\"/></a>"
      ]
    },
    {
      "cell_type": "markdown",
      "source": [
        "# Optimización de procesos\n",
        "\n",
        "## Sobrecarga de funciones\n",
        "\n",
        "Cuando se ejecuta un archivo en ensamblador, una parte de las instrucciones es para asignar espacio en la memoria. Entonces se genera una sobrecarga de funciones, se tiene que se asigna la memoria pero todavia no se realiza ningún procesamiento. \n",
        "\n",
        "Se necesita código para invocar a la rutina y después se necesita código para redirigir las variables hacia lo que hace la rutina. \n",
        "\n",
        "Por ejemplo en el algoritmo de Honer, cuando realizamos la rutina, es mas eficiente hacer el ciclo dentro de la rutina, porque esto no te genera sobrecarga de funciones y por lo tanto tarda menos tiempo. \n",
        "\n",
        "Vemos algunos tips para optimizar las rutinas:\n",
        "\n",
        "* Elegir bien tu algoritmo\n",
        "* Evitar operaciones trascendentales \n",
        "* Evitar la división dentro de las operaciones aritméticas. Se puede hacer dento de una multiplicación.\n",
        "* Los resultados intermedios de los cálculos los tienes que guardar en una variable y no volverlos a calcular. \n",
        "\n",
        "Por ejemplo, si se requiere hacer\n",
        "$$\n",
        "\\frac{ab}{c} \\sin\\left(\\frac{ab}{c}\\right)\n",
        "$$\n",
        "\n",
        "podemos guardar $ab/c$ en una variable y nos ahorramos operaciones. \n",
        "\n",
        "Todo lo que esta adentro de una función, son variables locales. Podemos crear variables globales fuera de las funciones. \n",
        "\n",
        "Antes de ejecutar un programa, win reserva la memoria. Sin embargo la variable local se reserva en una parte especial de la memoria que se llama *stack* la cual es una memoria especial que el procesador utiliza para poner y quitar cosas. Si se utilizan variables locales, el tiempo es practicamente gratis, ese tiempo no le cuesta a tu programa. \n",
        "\n",
        "Le memoria RAM no corre igual que el microprocesador, la RAM consiste en un capacitor y la cache que es donde esta el stack es un transistor, este esta dento del microprocesador, y corre a la misma velocidad que el, por lo que es rapidísimo. \n",
        "\n",
        "Siempre que se pueda hay que utilizar el stack. \n",
        "\n",
        "## Memoria dinámica\n",
        "\n",
        "La **memoria dinámica** es mas lenta de utilizar ya que \n",
        "\n",
        "* Tienes que resevar la memoria\n",
        "* Usar la memoria\n",
        "* Liberar la memoria\n",
        "\n",
        "es mucho mas lento utilizar la memoria dinámica. Por estos tres pasos que tienes que hacer. \n",
        "\n",
        "La memoria dinámica se utiliza cuando no sabes cual es la extensión de las cosas que estas utilizando. \n",
        "\n",
        "No pasar valores por valor, tratar de hacerlo por referencia, la referencia es un apuntador, se tarda mas tiempo, aunque aveces no hay elección ya que necesitas memoria dinámica. Cuando pasas valores por valor se crea una copia de lo que necesitas y después destruye la copia, por eso tarda mas tiempo. \n",
        "\n",
        "El que programa bien, programa con apuntadores, ya que se esta conciente de la pérdida de memoria. No programa con índices. \n",
        "\n",
        "Hay que tener cuidado en que parte de crea la memoria dinámica, porque tarda tiempo, es necesario hacerla pero al final es lo mejor, siempre cuidando en que parte se reserva. \n",
        "\n",
        "**Siempre hay que priorizar el uso de funciones dentro de los programas**.\n",
        "\n",
        "Un apuntador no implica utilizar la memoría dinámica. Solo es una dirección a la que se apunta."
      ],
      "metadata": {
        "id": "MTb7b1uBON7g"
      }
    },
    {
      "cell_type": "markdown",
      "source": [
        "## Tiempo de ejecución \n",
        "\n",
        "El siguiente programa te dice el tiempo que se tarda en ejecutar."
      ],
      "metadata": {
        "id": "wuGmMR1oxcWP"
      }
    },
    {
      "cell_type": "code",
      "source": [
        "%%writefile tiempo.c\n",
        "\n",
        "#include <time.h>\n",
        "#include <stdio.h>\n",
        "\n",
        "int main () {\n",
        "   clock_t start_t, end_t, total_t;\n",
        "   int i;\n",
        "\n",
        "   start_t = clock();\n",
        "   printf(\"Starting of the program, start_t = %ld\\n\", start_t); \n",
        "   printf(\"Going to scan a big loop, start_t = %ld\\n\", start_t);\n",
        "   for(i=0; i< 10000000; i++) {\n",
        "   }\n",
        "   end_t = clock();\n",
        "\n",
        "   printf(\"End of the big loop, end_t = %ld\\n\", end_t);\n",
        "   \n",
        "   total_t = (double)(end_t - start_t) / CLOCKS_PER_SEC;\n",
        "   printf(\"Total time taken by CPU: %f\\n\", total_t  );\n",
        "   printf(\"Exiting of the program...\\n\");\n",
        "\n",
        "   return(0);\n",
        "}"
      ],
      "metadata": {
        "colab": {
          "base_uri": "https://localhost:8080/"
        },
        "id": "iS_xIK0pwypT",
        "outputId": "4e8d6bcd-499e-4741-9b26-f130537c2335"
      },
      "execution_count": null,
      "outputs": [
        {
          "output_type": "stream",
          "name": "stdout",
          "text": [
            "Overwriting tiempo.c\n"
          ]
        }
      ]
    },
    {
      "cell_type": "code",
      "source": [
        "%%shell\n",
        "gcc tiempo.c -o output\n",
        "./output"
      ],
      "metadata": {
        "colab": {
          "base_uri": "https://localhost:8080/"
        },
        "id": "asXAVkcNxJDQ",
        "outputId": "a4d423bc-9bd8-46eb-a2ee-b774df7a9511"
      },
      "execution_count": null,
      "outputs": [
        {
          "output_type": "stream",
          "name": "stdout",
          "text": [
            "\u001b[01m\u001b[Ktiempo.c:\u001b[m\u001b[K In function ‘\u001b[01m\u001b[Kmain\u001b[m\u001b[K’:\n",
            "\u001b[01m\u001b[Ktiempo.c:21:38:\u001b[m\u001b[K \u001b[01;35m\u001b[Kwarning: \u001b[m\u001b[Kformat ‘\u001b[01m\u001b[K%f\u001b[m\u001b[K’ expects argument of type ‘\u001b[01m\u001b[Kdouble\u001b[m\u001b[K’, but argument 2 has type ‘\u001b[01m\u001b[Kclock_t {aka long int}\u001b[m\u001b[K’ [\u001b[01;35m\u001b[K-Wformat=\u001b[m\u001b[K]\n",
            "    printf(\"Total time taken by CPU: \u001b[01;35m\u001b[K%f\u001b[m\u001b[K\\n\", total_t  );\n",
            "                                     \u001b[01;35m\u001b[K~^\u001b[m\u001b[K\n",
            "                                     \u001b[32m\u001b[K%ld\u001b[m\u001b[K\n",
            "Starting of the program, start_t = 7180\n",
            "Going to scan a big loop, start_t = 7180\n",
            "End of the big loop, end_t = 30699\n",
            "Total time taken by CPU: 0.000000\n",
            "Exiting of the program...\n"
          ]
        },
        {
          "output_type": "execute_result",
          "data": {
            "text/plain": [
              ""
            ]
          },
          "metadata": {},
          "execution_count": 4
        }
      ]
    },
    {
      "cell_type": "markdown",
      "source": [
        "## Declaración de arreglos\n",
        "\n",
        "El siguiente programa te dice como declarar un arreglo dentro de C mediante una función"
      ],
      "metadata": {
        "id": "It6hnXm0x_Wl"
      }
    },
    {
      "cell_type": "code",
      "source": [
        "%%writefile arreglo.c\n",
        "\n",
        "#include <stdio.h>\n",
        "\n",
        "//Se utiliza una constante simbolica, se accede dentro de la cache \n",
        "#define  ELEMENTS 10\n",
        " \n",
        "void FillSequence( int array[], int length ) {\n",
        "  int i = 0;\n",
        "  do {\n",
        "    array[i] = i;\n",
        "  } while( ++ i < length);\n",
        "}\n",
        " \n",
        "void ShowSequence( int array[], int length ) {\n",
        "  int i = 0;\n",
        "  do {\n",
        "    printf( \"%d\\n\", array[i] );\n",
        "  } while( ++ i < length );\n",
        "}\n",
        " \n",
        "int main () {\n",
        "\n",
        "  int sequence[ELEMENTS];\n",
        "  FillSequence( sequence, ELEMENTS );\n",
        "  ShowSequence( sequence, ELEMENTS );\n",
        "  return 0;\n",
        "}"
      ],
      "metadata": {
        "colab": {
          "base_uri": "https://localhost:8080/"
        },
        "id": "pfjwROd6xMuS",
        "outputId": "40e2ca23-c540-4cb5-8ce5-cba4a148c2de"
      },
      "execution_count": null,
      "outputs": [
        {
          "output_type": "stream",
          "name": "stdout",
          "text": [
            "Overwriting arreglo.c\n"
          ]
        }
      ]
    },
    {
      "cell_type": "code",
      "source": [
        "%%shell\n",
        "gcc arreglo.c -o arreglo\n",
        "./arreglo"
      ],
      "metadata": {
        "colab": {
          "base_uri": "https://localhost:8080/"
        },
        "id": "ibqmXSrUyLrL",
        "outputId": "5b31ed78-df2e-4c3e-c85e-f54305d0847d"
      },
      "execution_count": null,
      "outputs": [
        {
          "output_type": "stream",
          "name": "stdout",
          "text": [
            "0\n",
            "1\n",
            "2\n",
            "3\n",
            "4\n",
            "5\n",
            "6\n",
            "7\n",
            "8\n",
            "9\n"
          ]
        },
        {
          "output_type": "execute_result",
          "data": {
            "text/plain": [
              ""
            ]
          },
          "metadata": {},
          "execution_count": 9
        }
      ]
    },
    {
      "cell_type": "markdown",
      "source": [
        "## Tarea\n",
        "Escribir un programa que te diga el timepo de ejecución del programa ejecutando el algoritmo dentro y fuera de la rutina. Utilizar el llenado del arreglo como en el programa pasado, para guardar los valores. "
      ],
      "metadata": {
        "id": "Fz-cDE8jygdm"
      }
    }
  ]
}