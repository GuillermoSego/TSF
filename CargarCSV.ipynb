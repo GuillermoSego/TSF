{
  "nbformat": 4,
  "nbformat_minor": 0,
  "metadata": {
    "colab": {
      "name": "CargarCSV",
      "provenance": [],
      "authorship_tag": "ABX9TyNnNKLPxrotfb0EruT3QuNr",
      "include_colab_link": true
    },
    "kernelspec": {
      "name": "python3",
      "display_name": "Python 3"
    },
    "language_info": {
      "name": "python"
    }
  },
  "cells": [
    {
      "cell_type": "markdown",
      "metadata": {
        "id": "view-in-github",
        "colab_type": "text"
      },
      "source": [
        "<a href=\"https://colab.research.google.com/github/GuillermoSego/TSF/blob/main/CargarCSV.ipynb\" target=\"_parent\"><img src=\"https://colab.research.google.com/assets/colab-badge.svg\" alt=\"Open In Colab\"/></a>"
      ]
    },
    {
      "cell_type": "markdown",
      "source": [
        "# Pasos para implementar una rutina\n",
        "\n",
        "## Requisitos previos \n",
        "1. Objetivo: Convertir de texto a double\n",
        "\n",
        "## Nombre\n",
        "El nombre de la rutina tiene que ser descriptivo a lo que se esta haciendo. **cargar CSV** Hay que utilizar la línea de comandos. \n",
        "\n",
        "## Decidir como se va probar la rutina\n",
        "Hay que crear algunos archivos de texto\n",
        "\n",
        "## Errores\n",
        "Que el usuario no defina el nombre del archivo, que no se encuentre la dirección del archivo. \n",
        "\n",
        "**La codificación del texto** es un tema muy importante, hay que utilizar por convención nuestra UTF-8.\n",
        "\n",
        "Otro posible error puede ser que el archivo no posea números. También tenemos que el archivo tenga líneas incompletas. \n",
        "\n",
        "## Escribir el pseudocódigo\n",
        "1. Si \n",
        "\n",
        "Abrir archivo\n",
        "  * Continua con el programa\n",
        "\n",
        "No\n",
        "  * Termina el programa\n",
        "\n",
        "2. Si \n",
        "\n",
        "El archivo tiene header\n",
        "* Saltarnos el header\n",
        "\n",
        "No \n",
        "* Continua el programa\n",
        "\n",
        "3. Leer una linea de texto.\n",
        "4. Obtener el tamaño de las columnas.\n",
        "5. Leer los archivos\n",
        "\n",
        "Para poder leer los archivos utilizamos **scanf**. La función scanf nos quita algunos de los errores ya que arroja el valor de archivos escaneados correctamente. \n",
        "\n",
        "8. Revisar errores\n",
        "9. Cerrar archivos"
      ],
      "metadata": {
        "id": "R8QZ1djeXy46"
      }
    },
    {
      "cell_type": "markdown",
      "source": [
        "Para introducir argumentos de la línea de comandos hacemos lo siguiente"
      ],
      "metadata": {
        "id": "abjjbluCkrf7"
      }
    },
    {
      "cell_type": "code",
      "execution_count": null,
      "metadata": {
        "colab": {
          "base_uri": "https://localhost:8080/"
        },
        "id": "QFv-7ORxXxm8",
        "outputId": "0b58effb-1f72-4cb3-cd8d-9ba3c15905a3"
      },
      "outputs": [
        {
          "output_type": "stream",
          "name": "stdout",
          "text": [
            "Writing linea.c\n"
          ]
        }
      ],
      "source": [
        "%%writefile linea.c\n",
        "\n",
        "#include <stdio.h>\n",
        "\n",
        "int main( int nArg, char*argumentos[] )\n",
        "{\n",
        "    \n",
        "    int i = 0;\n",
        "    \n",
        "    printf(\"%d\\n\", nArg);\n",
        "    do {\n",
        "        printf(\"%s\\n\", argumentos[i++]);\n",
        "    } while( -- nArg );\n",
        "\n",
        "    return 0;\n",
        "}"
      ]
    },
    {
      "cell_type": "code",
      "source": [
        "%%shell\n",
        "gcc linea.c -o linea\n",
        "./linea Parangaricutirimicuaro"
      ],
      "metadata": {
        "colab": {
          "base_uri": "https://localhost:8080/"
        },
        "id": "wyf1nYtek7vP",
        "outputId": "743eda72-0c11-4e73-8f74-f63e8bdc369d"
      },
      "execution_count": null,
      "outputs": [
        {
          "output_type": "stream",
          "name": "stdout",
          "text": [
            "2\n",
            "./linea\n",
            "Parangaricutirimicuaro\n"
          ]
        },
        {
          "output_type": "execute_result",
          "data": {
            "text/plain": [
              ""
            ]
          },
          "metadata": {},
          "execution_count": 3
        }
      ]
    },
    {
      "cell_type": "markdown",
      "source": [
        "Los delimitadores de la línea de comandos son los espacios. No importa cuantos espacios se tengan, el programa los va eliminar y los va considerar como uno. "
      ],
      "metadata": {
        "id": "_Z4vy3FVlF-_"
      }
    },
    {
      "cell_type": "code",
      "source": [
        "%%writefile headers.c\n",
        "\n",
        "#include <stdio.h>\n",
        "\n",
        "int main( int nArg, char* argumentos[]){\n",
        "    \n",
        "    int head, i = 0;\n",
        "    printf( \"%d\\n\", nArg );\n",
        "    \n",
        "    if(nArg == 3){\n",
        "        printf(\"Nombre del Archivo: %s \\n\", argumentos[1]);\n",
        "        sscanf(argumentos[2], \"%i\", &head);\n",
        "        printf(\"Numero de Headers: %i \\n\", head);\n",
        "    }\n",
        "    else{\n",
        "        printf(\"Nombre del Archivo: %s \\n\", argumentos[1]);\n",
        "        head = 0;\n",
        "        printf(\"Numero de Headers: %i \\n\", head);\n",
        "    }\n",
        "    \n",
        "\t\n",
        "\treturn 0;\n",
        "}"
      ],
      "metadata": {
        "colab": {
          "base_uri": "https://localhost:8080/"
        },
        "id": "GXDxXgdrlRXK",
        "outputId": "aca28250-41b5-4d69-9ba8-9b5e5e95fc4f"
      },
      "execution_count": null,
      "outputs": [
        {
          "output_type": "stream",
          "name": "stdout",
          "text": [
            "Overwriting headers.c\n"
          ]
        }
      ]
    },
    {
      "cell_type": "code",
      "source": [
        "%%shell\n",
        "gcc headers.c -o headers\n",
        "./headers \"Hola mundo\" 45"
      ],
      "metadata": {
        "colab": {
          "base_uri": "https://localhost:8080/"
        },
        "id": "SLDsI8ozzCBp",
        "outputId": "47a9f67c-26e7-4719-a70e-f2399263b45f"
      },
      "execution_count": null,
      "outputs": [
        {
          "output_type": "stream",
          "name": "stdout",
          "text": [
            "3\n",
            "Nombre del Archivo: Hola mundo \n",
            "Numero de Headers: 45 \n"
          ]
        },
        {
          "output_type": "execute_result",
          "data": {
            "text/plain": [
              ""
            ]
          },
          "metadata": {},
          "execution_count": 7
        }
      ]
    }
  ]
}