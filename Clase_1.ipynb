{
  "nbformat": 4,
  "nbformat_minor": 0,
  "metadata": {
    "colab": {
      "name": "Clase_1.ipynb",
      "provenance": [],
      "authorship_tag": "ABX9TyNb1P097FehNtukW+GXvxrA",
      "include_colab_link": true
    },
    "kernelspec": {
      "name": "python3",
      "display_name": "Python 3"
    },
    "language_info": {
      "name": "python"
    }
  },
  "cells": [
    {
      "cell_type": "markdown",
      "metadata": {
        "id": "view-in-github",
        "colab_type": "text"
      },
      "source": [
        "<a href=\"https://colab.research.google.com/github/GuillermoSego/TSF/blob/main/Clase_1.ipynb\" target=\"_parent\"><img src=\"https://colab.research.google.com/assets/colab-badge.svg\" alt=\"Open In Colab\"/></a>"
      ]
    },
    {
      "cell_type": "markdown",
      "source": [
        "\n",
        "# Repaso C"
      ],
      "metadata": {
        "id": "uNWaCgAH6yry"
      }
    },
    {
      "cell_type": "markdown",
      "source": [
        "El signo (#) Indica que es una directiva del preprocesador. La directiva stdio.h Es una biblioteca\n",
        "\n",
        "Lo que esta antes del programa se manda al preprocesador"
      ],
      "metadata": {
        "id": "zj_M19Kh7GBi"
      }
    },
    {
      "cell_type": "code",
      "execution_count": 3,
      "metadata": {
        "colab": {
          "base_uri": "https://localhost:8080/"
        },
        "id": "9em2qwXc6wyz",
        "outputId": "2ca9aaf2-fe18-4a50-d0d1-a8b3cd2035ea"
      },
      "outputs": [
        {
          "output_type": "stream",
          "name": "stdout",
          "text": [
            "Overwriting hola.c\n"
          ]
        }
      ],
      "source": [
        "%%writefile hola.c\n",
        "\n",
        "#include <stdio.h>\n",
        "\n",
        "int main() //Indica que el programa comienza, es lo que se manda a la memoria\n",
        "{\n",
        " \n",
        "    //Primera parte\n",
        "       \n",
        "    printf(\"Hola mundo\");\n",
        "    // Es una cadena de caracteres, que en realidad es una matriz de numeros, \n",
        "    // transformada utilizando codigo ASCII \n",
        "\n",
        "    return 0;\n",
        "}"
      ]
    },
    {
      "cell_type": "code",
      "source": [
        "%%shell\n",
        "gcc hola.c -o output\n",
        "./output"
      ],
      "metadata": {
        "colab": {
          "base_uri": "https://localhost:8080/"
        },
        "id": "J_y1EAMb7l5g",
        "outputId": "120411f7-5e69-4076-ca18-e3ecfaabbcc0"
      },
      "execution_count": 4,
      "outputs": [
        {
          "output_type": "stream",
          "name": "stdout",
          "text": [
            "Hola mundo"
          ]
        },
        {
          "output_type": "execute_result",
          "data": {
            "text/plain": [
              ""
            ]
          },
          "metadata": {},
          "execution_count": 4
        }
      ]
    },
    {
      "cell_type": "markdown",
      "source": [
        "## El algoritmo de Horner\n",
        "\n",
        "Trata acerca de la factorizacion de un polinomio. Es de las maneras mas eficientes de evaluar un polinomio."
      ],
      "metadata": {
        "id": "HP5BI7xI7zDD"
      }
    },
    {
      "cell_type": "code",
      "source": [
        "%%writefile Horner.c\n",
        "\n",
        "#include <stdio.h>\n",
        "\n",
        "int main()\n",
        "{\n",
        "\n",
        "    double coeff[] = {2,-5,10};\n",
        "    double accum = coeff[0];\n",
        "    double x = -3;\n",
        "    int index = 1;\n",
        "\n",
        "    do{\n",
        "        accum = accum*x + coeff[index];\n",
        "        index ++;\n",
        "    } while(index <sizeof(coeff) / sizeof(double)); // Es una macro me sirve \n",
        "    //para saber el tamaño de un arreglo que ya esta declarado\n",
        "    \n",
        "    printf(\"%8.3lf\", accum); //1234.123 tenemos 8 caracteres 3 decimales\n",
        "    return 0;\n",
        "}"
      ],
      "metadata": {
        "colab": {
          "base_uri": "https://localhost:8080/"
        },
        "id": "KlDVUwEF7q5N",
        "outputId": "ec56aedc-ee94-4dcf-f350-678e7889fdec"
      },
      "execution_count": 5,
      "outputs": [
        {
          "output_type": "stream",
          "name": "stdout",
          "text": [
            "Writing Horner.c\n"
          ]
        }
      ]
    },
    {
      "cell_type": "code",
      "source": [
        "%%shell\n",
        "gcc Horner.c -o Horner\n",
        "./Horner"
      ],
      "metadata": {
        "colab": {
          "base_uri": "https://localhost:8080/"
        },
        "id": "h67_-ezc8IzV",
        "outputId": "ea1a2026-50c4-4309-f5e9-01ad60d7fc58"
      },
      "execution_count": 6,
      "outputs": [
        {
          "output_type": "stream",
          "name": "stdout",
          "text": [
            "  43.000"
          ]
        },
        {
          "output_type": "execute_result",
          "data": {
            "text/plain": [
              ""
            ]
          },
          "metadata": {},
          "execution_count": 6
        }
      ]
    },
    {
      "cell_type": "markdown",
      "source": [
        "Ahora, para graficar el Algoritmo, transformamos el Algoritmoen una función"
      ],
      "metadata": {
        "id": "3rzN9F_w8Wbd"
      }
    },
    {
      "cell_type": "code",
      "source": [
        "%%writefile Hornerfunc.c\n",
        "\n",
        "#include <stdio.h>\n",
        "\n",
        "double HornerRule( double x, double *coeff , int nCoeff){\n",
        "    \n",
        "    double accum = coeff[0];\n",
        "    int index = 1;\n",
        "\n",
        "    do{\n",
        "        accum = accum*x + coeff[index];\n",
        "        index ++;\n",
        "    } while(index < nCoeff); // Es una macro me sirve \n",
        "    //para saber el tamaño de un arreglo que ya esta declarado\n",
        "    \n",
        "    return accum;\n",
        "    \n",
        "}\n",
        "\n",
        "int main(){\n",
        "    \n",
        "\n",
        "\n",
        "    double coeff[] = {2,-5, 10};\n",
        "    \n",
        "    double x = -3;\n",
        "    int n = 100;\n",
        "    \n",
        "    do{\n",
        "        printf(\"%8.3lf, %8.3lf\\n\", x, \n",
        "        HornerRule(x, coeff, sizeof(coeff) / sizeof(double)));\n",
        "        x += 0.1;\n",
        "        \n",
        "    } while(-- n);\n",
        "    \n",
        "    return 0;\n",
        "    \n",
        "}"
      ],
      "metadata": {
        "colab": {
          "base_uri": "https://localhost:8080/"
        },
        "id": "EgXQqkbq8Ou5",
        "outputId": "9fa1e723-37e9-41fc-9ce3-405e50764f7e"
      },
      "execution_count": 9,
      "outputs": [
        {
          "output_type": "stream",
          "name": "stdout",
          "text": [
            "Overwriting Hornerfunc.c\n"
          ]
        }
      ]
    },
    {
      "cell_type": "code",
      "source": [
        "%%shell\n",
        "gcc Hornerfunc.c -o func\n",
        "./func"
      ],
      "metadata": {
        "colab": {
          "base_uri": "https://localhost:8080/"
        },
        "id": "q9dI9nO48tEZ",
        "outputId": "abe18af6-b552-468c-e90d-e2094d5e9916"
      },
      "execution_count": 10,
      "outputs": [
        {
          "output_type": "stream",
          "name": "stdout",
          "text": [
            "  -3.000,   43.000\n",
            "  -2.900,   41.320\n",
            "  -2.800,   39.680\n",
            "  -2.700,   38.080\n",
            "  -2.600,   36.520\n",
            "  -2.500,   35.000\n",
            "  -2.400,   33.520\n",
            "  -2.300,   32.080\n",
            "  -2.200,   30.680\n",
            "  -2.100,   29.320\n",
            "  -2.000,   28.000\n",
            "  -1.900,   26.720\n",
            "  -1.800,   25.480\n",
            "  -1.700,   24.280\n",
            "  -1.600,   23.120\n",
            "  -1.500,   22.000\n",
            "  -1.400,   20.920\n",
            "  -1.300,   19.880\n",
            "  -1.200,   18.880\n",
            "  -1.100,   17.920\n",
            "  -1.000,   17.000\n",
            "  -0.900,   16.120\n",
            "  -0.800,   15.280\n",
            "  -0.700,   14.480\n",
            "  -0.600,   13.720\n",
            "  -0.500,   13.000\n",
            "  -0.400,   12.320\n",
            "  -0.300,   11.680\n",
            "  -0.200,   11.080\n",
            "  -0.100,   10.520\n",
            "   0.000,   10.000\n",
            "   0.100,    9.520\n",
            "   0.200,    9.080\n",
            "   0.300,    8.680\n",
            "   0.400,    8.320\n",
            "   0.500,    8.000\n",
            "   0.600,    7.720\n",
            "   0.700,    7.480\n",
            "   0.800,    7.280\n",
            "   0.900,    7.120\n",
            "   1.000,    7.000\n",
            "   1.100,    6.920\n",
            "   1.200,    6.880\n",
            "   1.300,    6.880\n",
            "   1.400,    6.920\n",
            "   1.500,    7.000\n",
            "   1.600,    7.120\n",
            "   1.700,    7.280\n",
            "   1.800,    7.480\n",
            "   1.900,    7.720\n",
            "   2.000,    8.000\n",
            "   2.100,    8.320\n",
            "   2.200,    8.680\n",
            "   2.300,    9.080\n",
            "   2.400,    9.520\n",
            "   2.500,   10.000\n",
            "   2.600,   10.520\n",
            "   2.700,   11.080\n",
            "   2.800,   11.680\n",
            "   2.900,   12.320\n",
            "   3.000,   13.000\n",
            "   3.100,   13.720\n",
            "   3.200,   14.480\n",
            "   3.300,   15.280\n",
            "   3.400,   16.120\n",
            "   3.500,   17.000\n",
            "   3.600,   17.920\n",
            "   3.700,   18.880\n",
            "   3.800,   19.880\n",
            "   3.900,   20.920\n",
            "   4.000,   22.000\n",
            "   4.100,   23.120\n",
            "   4.200,   24.280\n",
            "   4.300,   25.480\n",
            "   4.400,   26.720\n",
            "   4.500,   28.000\n",
            "   4.600,   29.320\n",
            "   4.700,   30.680\n",
            "   4.800,   32.080\n",
            "   4.900,   33.520\n",
            "   5.000,   35.000\n",
            "   5.100,   36.520\n",
            "   5.200,   38.080\n",
            "   5.300,   39.680\n",
            "   5.400,   41.320\n",
            "   5.500,   43.000\n",
            "   5.600,   44.720\n",
            "   5.700,   46.480\n",
            "   5.800,   48.280\n",
            "   5.900,   50.120\n",
            "   6.000,   52.000\n",
            "   6.100,   53.920\n",
            "   6.200,   55.880\n",
            "   6.300,   57.880\n",
            "   6.400,   59.920\n",
            "   6.500,   62.000\n",
            "   6.600,   64.120\n",
            "   6.700,   66.280\n",
            "   6.800,   68.480\n",
            "   6.900,   70.720\n"
          ]
        },
        {
          "output_type": "execute_result",
          "data": {
            "text/plain": [
              ""
            ]
          },
          "metadata": {},
          "execution_count": 10
        }
      ]
    },
    {
      "cell_type": "markdown",
      "source": [
        "## Notas\n",
        "\n",
        "Los ciclos descentes son mas eficientes que los ciclos ascendentes hacen una instruccion menos de ensamblador.\n",
        "\n",
        "UTF-8 es una convención para el uso de los símbolos diacríticos, es mejor usar esta.\n",
        "\n",
        "Cuando se corre un programa de la linea de comandos, es decir int main( cosas )\n",
        "es posible darle valor a las variables antes de compilar el programa.\n"
      ],
      "metadata": {
        "id": "40epfVyb8554"
      }
    }
  ]
}