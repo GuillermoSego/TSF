{
  "nbformat": 4,
  "nbformat_minor": 0,
  "metadata": {
    "colab": {
      "name": "MatrixProduct.ipynb",
      "provenance": [],
      "authorship_tag": "ABX9TyPpkYsw8XxxjGH3SyqRt3+7",
      "include_colab_link": true
    },
    "kernelspec": {
      "name": "python3",
      "display_name": "Python 3"
    },
    "language_info": {
      "name": "python"
    }
  },
  "cells": [
    {
      "cell_type": "markdown",
      "metadata": {
        "id": "view-in-github",
        "colab_type": "text"
      },
      "source": [
        "<a href=\"https://colab.research.google.com/github/GuillermoSego/TSF/blob/main/MatrixProduct.ipynb\" target=\"_parent\"><img src=\"https://colab.research.google.com/assets/colab-badge.svg\" alt=\"Open In Colab\"/></a>"
      ]
    },
    {
      "cell_type": "markdown",
      "source": [
        "# Producto de dos matrices\n",
        "\n",
        "El siguiente programa calcula el producto de dos matrices, la primera de $M \\times N$ y la segunda de $N \\times O$ en donde el primer valor representa el número de renglones y el segundo el número de columnas. "
      ],
      "metadata": {
        "id": "8GvfE1X-gXOL"
      }
    },
    {
      "cell_type": "code",
      "execution_count": 1,
      "metadata": {
        "colab": {
          "base_uri": "https://localhost:8080/"
        },
        "id": "0lsKANhOgUC6",
        "outputId": "e8b567ba-292e-4b9c-a4fb-d335cc87e034"
      },
      "outputs": [
        {
          "output_type": "stream",
          "name": "stdout",
          "text": [
            "Writing MProd.c\n"
          ]
        }
      ],
      "source": [
        "%%writefile MProd.c\n",
        "\n",
        "// Programa de multiplicacion de matrices\n",
        "\n",
        "#include <stdio.h>\n",
        "\n",
        "#define M 2\n",
        "#define N 4\n",
        "#define O 3\n",
        "\n",
        "// Esta rutina calcula el producto punto entre dos vectores\n",
        "double DotProd(double* x, double* y, int n)\n",
        "{\n",
        "    double sum = *(x++) * *(y ++ );\n",
        "    --n ;\n",
        "    \n",
        "    do {\n",
        "        sum += *( x++ ) * *(y ++ );\n",
        "    } while (--n);\n",
        "    \n",
        "    \n",
        "    return sum;\n",
        "}\n",
        "\n",
        "// Esta rutina muestra una matriz de mxn\n",
        "void MatrixShow(int m, int n, double v[])\n",
        "{\n",
        "    \n",
        "     \n",
        "    int i, j, k=0;\n",
        "    \n",
        "    for(i=0 ; i<m ; i++){\n",
        "        \n",
        "        for (j=0 ; j<n ; j ++){\n",
        "            \n",
        "            printf(\"%lf \\t\", v[k]);\n",
        "            k ++;\n",
        "        }\n",
        "        \n",
        "        printf(\"\\n\");\n",
        "    }\n",
        "    \n",
        "    \n",
        "}\n",
        "\n",
        "int main()\n",
        "{\n",
        " \n",
        "    // Declaramos las matrices\n",
        "    double m1[M * N] = {1, 2, 3, 4, 5, 6, 7, 8};\n",
        "    double m2[N * O] = {1, 1, 1, 1, 1, 1, 1, 1, 1, 1, 1, 1};\n",
        "\n",
        "    // Apuntadores a las matrices\n",
        "    double* m1Ptr = m1;\n",
        "    double* m2Ptr = m2;\n",
        "    \n",
        "    // Arreglo new, va guardar los elementos de la columna de la segunda matriz\n",
        "    double new[N];\n",
        "    double* nPtr = new;\n",
        "    \n",
        "    int i = 0, j = 0, k = 0;\n",
        "    \n",
        "    // Declaramos la matriz producto\n",
        "    double Matrix[N*N];\n",
        "    double* MPtr = Matrix;\n",
        "    \n",
        "    /*\n",
        "    \n",
        "    Para hacer la multiplicacion de matrices necesitamos tres ciclos, en el \n",
        "    primero, recorremos los elementos de la matriz 1. En el segundo recorremos\n",
        "    las filas de la matriz 2. Y en el tercero las columnas. Vamos guardando las\n",
        "    columnas de la matriz 2 en un arreglo llamado new y hacemos el producto \n",
        "    punto con los elementos de la fila de la matriz 1.\n",
        "    \n",
        "    */\n",
        "    \n",
        "    do {\n",
        "        \n",
        "        do {\n",
        "            \n",
        "            // Apuntamos en la direccion correcta\n",
        "            nPtr = new;\n",
        "            m2Ptr = m2;\n",
        "            j = 0;\n",
        "           \n",
        "           do {\n",
        "               \n",
        "               // Guardamos la columna en el arreglo new\n",
        "               *nPtr = *(m2Ptr + i + j*O);\n",
        "               nPtr ++;\n",
        "               \n",
        "               j ++;\n",
        "               \n",
        "           } while (j<N);\n",
        "            \n",
        "            // Apuntamos en la direccion correcta\n",
        "            nPtr = new;\n",
        "            \n",
        "            /*\n",
        "            \n",
        "            Hacemos el producto punto entre la fila de la matriz 1 y la columna \n",
        "            de la matriz 2\n",
        "            \n",
        "            */\n",
        "            *MPtr = DotProd(m1Ptr, nPtr, N);\n",
        "            MPtr ++;\n",
        "            \n",
        "            i ++;\n",
        "            \n",
        "        } while(i<O);\n",
        "    \n",
        "        i = 0;\n",
        "        k ++;\n",
        "        \n",
        "        // Sumamos para estar en la siguiente fila\n",
        "        m1Ptr = m1Ptr + N;\n",
        "    \n",
        "    } while(k<M);\n",
        "    \n",
        "    printf(\"La matriz numero 1. (%d, %d)\\n\", M, N);\n",
        "    MatrixShow(M, N, m1);\n",
        "\n",
        "    printf(\"La matriz numero 2. (%d, %d) \\n\",N, O);\n",
        "    MatrixShow(N, O, m2);\n",
        "    printf(\"\\n\");\n",
        "\n",
        "    printf(\"El productode ambas matrices. (%d, %d)\\n\", M, O);\n",
        "    MatrixShow(M, O, Matrix);\n",
        "\n",
        "    return 0;\n",
        "}\n"
      ]
    },
    {
      "cell_type": "code",
      "source": [
        "%%shell\n",
        "\n",
        "gcc MProd.c -o MProd\n",
        "./MProd "
      ],
      "metadata": {
        "colab": {
          "base_uri": "https://localhost:8080/"
        },
        "id": "GJBlkt5Cg-Qa",
        "outputId": "f556352b-2f54-49a4-fe67-4a41cd9d2b32"
      },
      "execution_count": 2,
      "outputs": [
        {
          "output_type": "stream",
          "name": "stdout",
          "text": [
            "La matriz numero 1. (2, 4)\n",
            "1.000000 \t2.000000 \t3.000000 \t4.000000 \t\n",
            "5.000000 \t6.000000 \t7.000000 \t8.000000 \t\n",
            "La matriz numero 2. (4, 3) \n",
            "1.000000 \t1.000000 \t1.000000 \t\n",
            "1.000000 \t1.000000 \t1.000000 \t\n",
            "1.000000 \t1.000000 \t1.000000 \t\n",
            "1.000000 \t1.000000 \t1.000000 \t\n",
            "\n",
            "El productode ambas matrices. (2, 3)\n",
            "10.000000 \t10.000000 \t10.000000 \t\n",
            "26.000000 \t26.000000 \t26.000000 \t\n"
          ]
        },
        {
          "output_type": "execute_result",
          "data": {
            "text/plain": [
              ""
            ]
          },
          "metadata": {},
          "execution_count": 2
        }
      ]
    }
  ]
}