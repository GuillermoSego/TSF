{
  "nbformat": 4,
  "nbformat_minor": 0,
  "metadata": {
    "colab": {
      "name": "OpenA.ipynb",
      "provenance": [],
      "authorship_tag": "ABX9TyMe5l6OuGGUjZx4yjFBB0zC",
      "include_colab_link": true
    },
    "kernelspec": {
      "name": "python3",
      "display_name": "Python 3"
    },
    "language_info": {
      "name": "python"
    }
  },
  "cells": [
    {
      "cell_type": "markdown",
      "metadata": {
        "id": "view-in-github",
        "colab_type": "text"
      },
      "source": [
        "<a href=\"https://colab.research.google.com/github/GuillermoSego/TSF/blob/main/OpenA.ipynb\" target=\"_parent\"><img src=\"https://colab.research.google.com/assets/colab-badge.svg\" alt=\"Open In Colab\"/></a>"
      ]
    },
    {
      "cell_type": "code",
      "execution_count": 15,
      "metadata": {
        "colab": {
          "base_uri": "https://localhost:8080/"
        },
        "id": "GZaDAp0i56xk",
        "outputId": "ac54a941-b47a-4907-af7f-81d94e37bdd7"
      },
      "outputs": [
        {
          "output_type": "stream",
          "name": "stdout",
          "text": [
            "Overwriting open.c\n"
          ]
        }
      ],
      "source": [
        "%%writefile open.c\n",
        "\n",
        "#include <stdio.h>\n",
        "\n",
        "void ShowMatrix( int m, int n , double array[] ){\n",
        "\tint i = 0, c = 0;\n",
        "\tdo{\n",
        "\t   \tint j = 0;\n",
        "\t\tdo{\n",
        "\t\t\tprintf( \"%1.3lf\\t\", array[c] );\n",
        "\t\t\tc++;\n",
        "\t\t}while ( ++j < n);\n",
        "\t\tprintf( \"\\n \");\n",
        "\t} while( ++i < m);\n",
        "}\n",
        "\n",
        "\n",
        "void TMatrix( int m, int n , double array[], double vectorTrnsp[] ){\n",
        "\t int i = 0, c = 0, cont = 0;\n",
        "\t do{\n",
        "\t   \tint j = 0;\n",
        "\t\tdo{\n",
        "\t\t\t//printf( \"%1.3lf \\t\", array[c] );\n",
        "\t\t\tvectorTrnsp[cont] = array[c];\n",
        "\t\t\tc = c+n;\n",
        "\t\t\tcont++;\n",
        "\t\t} while ( ++j < m);\n",
        "\t\t//printf(\"\\n\");\n",
        "\t\tc = i+1;\n",
        "\t} while( ++i < n);\n",
        "}\n",
        "\n",
        "int main(){\n",
        "\tFILE *Doc;\n",
        "\tdouble vector[100], vectorT[100];\n",
        "\n",
        "\tDoc = fopen ( \"Datos2.csv\", \"r\" ); //Nombre del Archivo\n",
        "\tif (Doc==NULL) { printf(\"Error al Abrir\\n\"); }\n",
        "\telse{ printf(\"Se accedio al archivo\\n\");\n",
        "\t\t//Buffer de 100\n",
        "\t\tchar buffer[100]; \n",
        "\t\tint colum = 0;\n",
        "\t\t\n",
        "\t\t//Obtener primer renglon\n",
        "\t\tfgets(buffer, 100, Doc); \n",
        "\t\t\n",
        "\t\t//Calculo de columas\n",
        "\t\tchar *current = buffer;\n",
        "\t\tdo{ \n",
        "\t\t\tcolum += ( *current == ',' );\n",
        "\t\t}while(*current++);\n",
        "\t\t\n",
        "\t\t// Convertir a binario primer renglon\n",
        "\t\tcurrent = buffer;\n",
        "\t\tint length=0;\n",
        "\t\tdouble* cell = vector;\n",
        "\t\tint i = colum;\n",
        "\t\tdo{\n",
        "\t\t\tcurrent += length;\n",
        "\t\t\tsscanf(current, \"%lf,%n\", cell++, &length );\n",
        "\t\t}while(i -- );\n",
        "\t\tcurrent += length;\n",
        "\t\tsscanf( current, \"%lf\", cell);\n",
        "\t\ti = colum;\n",
        "\t\tcell = vector;\n",
        "\t\tdo{\n",
        "\t\t\t*cell ++;\n",
        "\t\t} while( i-- );\n",
        "\t\t\n",
        "\t\t//Términar de leer archivo\n",
        "\t\tint c = 1, Error = 0, col = colum+1; char dummy;\n",
        "\t\tdo{\n",
        "\t\t\tError = fscanf(Doc, \"%lf%c\", cell++, &dummy);\n",
        "\t\t}while(Error > 0);\n",
        "\t}\n",
        "\tfclose ( Doc );\n",
        "\t\n",
        "\t//Comprobar que se guardo en vector\n",
        "\t\n",
        "\tprintf(\"\\nshowMatrix\\n\");\n",
        "\tShowMatrix( 15, 6, vector );\n",
        "\tprintf(\"\\n\\nMatrix Trans\\n\");\n",
        "\tTMatrix( 15, 6, vector, vectorT );\n",
        "\tShowMatrix( 6, 15, vectorT );\n",
        "\n",
        "\treturn 0;\n",
        "}"
      ]
    },
    {
      "cell_type": "code",
      "source": [
        "%%shell\n",
        "\n",
        "gcc open.c -o open\n",
        "./open"
      ],
      "metadata": {
        "colab": {
          "base_uri": "https://localhost:8080/"
        },
        "id": "BVZM5bfw6ijq",
        "outputId": "1bcfd2b4-64eb-4836-ba2c-679db977abbc"
      },
      "execution_count": 16,
      "outputs": [
        {
          "output_type": "stream",
          "name": "stdout",
          "text": [
            "Se accedio al archivo\n",
            "\n",
            "showMatrix\n",
            "10.000\t10.700\t10.400\t9.800\t9.700\t10.000\t\n",
            " 9.700\t10.100\t11.700\t11.500\t11.000\t10.800\t\n",
            " 8.700\t8.800\t9.500\t9.300\t10.100\t9.400\t\n",
            " 9.600\t9.600\t10.500\t10.400\t9.200\t9.000\t\n",
            " 11.300\t11.600\t10.100\t9.800\t8.500\t9.200\t\n",
            " 0.000\t0.000\t0.000\t0.000\t0.000\t0.000\t\n",
            " 0.000\t0.000\t0.000\t0.000\t0.000\t0.000\t\n",
            " 0.000\t0.000\t0.000\t0.000\t0.000\t0.000\t\n",
            " 0.000\t0.000\t0.000\t0.000\t0.000\t0.000\t\n",
            " 0.000\t0.000\t0.000\t0.000\t0.000\t0.000\t\n",
            " 0.000\t0.000\t0.000\t0.000\t0.000\t0.000\t\n",
            " 0.000\t0.000\t0.000\t0.000\t0.000\t0.000\t\n",
            " 0.000\t0.000\t0.000\t0.000\t0.000\t0.000\t\n",
            " 0.000\t0.000\t0.000\t0.000\t0.000\t0.000\t\n",
            " 0.000\t0.000\t0.000\t0.000\t0.000\t0.000\t\n",
            " \n",
            "\n",
            "Matrix Trans\n",
            "10.000\t9.700\t8.700\t9.600\t11.300\t0.000\t0.000\t0.000\t0.000\t0.000\t0.000\t0.000\t0.000\t0.000\t0.000\t\n",
            " 10.700\t10.100\t8.800\t9.600\t11.600\t0.000\t0.000\t0.000\t0.000\t0.000\t0.000\t0.000\t0.000\t0.000\t0.000\t\n",
            " 10.400\t11.700\t9.500\t10.500\t10.100\t0.000\t0.000\t0.000\t0.000\t0.000\t0.000\t0.000\t0.000\t0.000\t0.000\t\n",
            " 9.800\t11.500\t9.300\t10.400\t9.800\t0.000\t0.000\t0.000\t0.000\t0.000\t0.000\t0.000\t0.000\t0.000\t0.000\t\n",
            " 9.700\t11.000\t10.100\t9.200\t8.500\t0.000\t0.000\t0.000\t0.000\t0.000\t0.000\t0.000\t0.000\t0.000\t0.000\t\n",
            " 10.000\t10.800\t9.400\t9.000\t9.200\t0.000\t0.000\t0.000\t0.000\t0.000\t0.000\t0.000\t0.000\t0.000\t0.000\t\n",
            " "
          ]
        },
        {
          "output_type": "execute_result",
          "data": {
            "text/plain": [
              ""
            ]
          },
          "metadata": {},
          "execution_count": 16
        }
      ]
    },
    {
      "cell_type": "code",
      "source": [
        ""
      ],
      "metadata": {
        "id": "0cT_MJhU7gjZ"
      },
      "execution_count": null,
      "outputs": []
    }
  ]
}