{
  "nbformat": 4,
  "nbformat_minor": 0,
  "metadata": {
    "colab": {
      "name": "OpenA.ipynb",
      "provenance": [],
      "authorship_tag": "ABX9TyMAeC7V6oEomOz2Jl4TII6a",
      "include_colab_link": true
    },
    "kernelspec": {
      "name": "python3",
      "display_name": "Python 3"
    },
    "language_info": {
      "name": "python"
    }
  },
  "cells": [
    {
      "cell_type": "markdown",
      "metadata": {
        "id": "view-in-github",
        "colab_type": "text"
      },
      "source": [
        "<a href=\"https://colab.research.google.com/github/GuillermoSego/TSF/blob/main/OpenA.ipynb\" target=\"_parent\"><img src=\"https://colab.research.google.com/assets/colab-badge.svg\" alt=\"Open In Colab\"/></a>"
      ]
    },
    {
      "cell_type": "code",
      "source": [
        "%%writefile op.c\n",
        "\n",
        "#include <stdio.h>\n",
        "\n",
        "#define BF 100\n",
        "\n",
        "void MatrixShow(int m, int n, double v[])\n",
        "{\n",
        "    \n",
        "     \n",
        "    int i, j, k=0;\n",
        "    \n",
        "    for(i=0 ; i<m ; i++){\n",
        "        \n",
        "        for (j=0 ; j<n ; j ++){\n",
        "            \n",
        "            printf(\"%lf \\t\", v[k]);\n",
        "            k ++;\n",
        "        }\n",
        "        \n",
        "        printf(\"\\n\");\n",
        "    }\n",
        "       \n",
        "}\n",
        "\n",
        "void MatrixT(int m, int n, double v[]){\n",
        "    \n",
        "    int i, j, k;\n",
        "    \n",
        "    for (i=0; i<n; i++){\n",
        "        \n",
        "        k = i;\n",
        "        \n",
        "        for(j=0; j<m; j++){\n",
        "            \n",
        "            printf(\"%lf \\t\", v[k]);\n",
        "            k=k+n;\n",
        "            \n",
        "        }\n",
        "        \n",
        "        printf(\"\\n\");\n",
        "        \n",
        "    }\n",
        "    \n",
        "}\n",
        "\n",
        "\n",
        "\n",
        "int main()\n",
        "{\n",
        "    \n",
        "    // Declaramos una variable tipo FILE y un apuntador hacia ella\n",
        "    FILE *Doc;\n",
        " \n",
        "    // Declaramos un vecctor en el que vamos a guardar los datos\n",
        "\t  double vector[BF];\n",
        "\n",
        "    // Abrimos el archivo. \"r\": Abrir un archivo existente para leer. \n",
        "    Doc = fopen ( \"Datos.csv\", \"r\" ); //Nombre del Archivo\n",
        " \n",
        "    // Aqui guardamos el número de columnas\n",
        "    int colum = 0;\n",
        "\t\n",
        "    if (Doc==NULL) { \n",
        "     \n",
        "        printf(\"Error al Abrir\\n\"); }\n",
        "\t  \n",
        "    else{ \n",
        "    \n",
        "        printf(\"Se accedio al archivo\\n\");\n",
        "\n",
        "        // Creamos un buffer de 100 para almacenar los datos. Los leemos como caracteres\n",
        "\t\t    char buffer[BF]; \n",
        "\t\t\n",
        " \n",
        "        // Se obtiene el primer renglón\n",
        "\t\t    fgets(buffer, BF, Doc); \n",
        "\t\t\n",
        "\t\t    // Calculamos el número de columnas con un apuntador hacia el buffer\n",
        "\t\t    char *current = buffer;\n",
        "\t\t    do{ \n",
        "\t\t\t      colum += ( *current == ',' );\n",
        "\t\t    } while(*current++);\n",
        "\n",
        "\t\t    // Convertimos a binario renglon tras renglon.\n",
        " \n",
        "        // Apuntamos en la dirección correcta\n",
        "\t\t    current = buffer;\n",
        "\t\t    int length = 0;\n",
        " \n",
        "\t\t    double* cell = vector;\n",
        "\t\t    int i = colum;\n",
        "\n",
        "\t\t    do{\n",
        "\n",
        "\t\t\t      current += length;\n",
        "\t\t\t      sscanf(current, \"%lf,%n\", cell++, &length );\n",
        "         \n",
        "\t\t    } while(i -- );\n",
        "\t\t\n",
        "        current += length;\n",
        " \n",
        "\t\t    sscanf( current, \"%lf\", cell);\n",
        "\t\t    i = colum;\n",
        "\t\t    cell = vector;\n",
        "\n",
        "\t\t    do {\n",
        "\t\t\t      *cell ++;\n",
        "\t\t    } while( i-- );\n",
        "\t\t\n",
        "\t\t    // Se termina de leer el archivo\n",
        "\t\t    int c = 1, Error = 0, col = colum+1; char dummy;\n",
        "\n",
        "\t\t    do{\n",
        "\n",
        "\t\t\t      Error = fscanf(Doc, \"%lf%c\", cell++, &dummy);\n",
        "         \n",
        "\t\t    } while(Error > 0);\n",
        "\n",
        "\n",
        "\t  }\n",
        "\t  \n",
        "    \n",
        "    fclose ( Doc );\n",
        "    \n",
        "    printf(\"Imprimimos los datos \\n\");\n",
        "    MatrixShow( 15, colum, vector );\n",
        "\n",
        "    printf(\"Imprimimos los datos transpuestos \\n\");\n",
        "    MatrixT( 15, colum, vector );\n",
        " \n",
        "    return 0;\n",
        "\n",
        "}"
      ],
      "metadata": {
        "id": "0cT_MJhU7gjZ",
        "colab": {
          "base_uri": "https://localhost:8080/"
        },
        "outputId": "f312878d-bf0e-4e01-b857-a4fd39007fcc"
      },
      "execution_count": null,
      "outputs": [
        {
          "output_type": "stream",
          "name": "stdout",
          "text": [
            "Overwriting op.c\n"
          ]
        }
      ]
    },
    {
      "cell_type": "code",
      "source": [
        "%%shell\n",
        "\n",
        "gcc op.c -o op\n",
        "./op"
      ],
      "metadata": {
        "colab": {
          "base_uri": "https://localhost:8080/"
        },
        "id": "KfUJYJqTygLu",
        "outputId": "4cf9bd4d-fbd7-4cd9-b9f9-f0fd71c7adae"
      },
      "execution_count": null,
      "outputs": [
        {
          "output_type": "stream",
          "name": "stdout",
          "text": [
            "Se accedio al archivo\n",
            "Imprimimos los datos \n",
            "10.000000 \t10.700000 \t10.700000 \t10.000000 \t\n",
            "10.700000 \t10.400000 \t9.800000 \t9.800000 \t\n",
            "10.400000 \t9.800000 \t9.700000 \t10.000000 \t\n",
            "10.000000 \t9.700000 \t10.000000 \t9.700000 \t\n",
            "10.100000 \t10.100000 \t9.700000 \t10.100000 \t\n",
            "11.700000 \t11.500000 \t11.500000 \t11.700000 \t\n",
            "11.500000 \t11.000000 \t10.800000 \t10.800000 \t\n",
            "11.000000 \t10.800000 \t8.700000 \t8.800000 \t\n",
            "8.800000 \t8.700000 \t8.800000 \t9.500000 \t\n",
            "9.300000 \t9.300000 \t9.500000 \t9.300000 \t\n",
            "10.100000 \t9.400000 \t9.400000 \t10.100000 \t\n",
            "9.400000 \t9.600000 \t9.600000 \t9.600000 \t\n",
            "9.600000 \t9.600000 \t10.500000 \t10.400000 \t\n",
            "10.400000 \t10.500000 \t10.400000 \t9.200000 \t\n",
            "9.000000 \t9.000000 \t9.200000 \t9.000000 \t\n",
            "Imprimimos los datos transpuestos \n",
            "10.000000 \t10.700000 \t10.400000 \t10.000000 \t10.100000 \t11.700000 \t11.500000 \t11.000000 \t8.800000 \t9.300000 \t10.100000 \t9.400000 \t9.600000 \t10.400000 \t9.000000 \t\n",
            "10.700000 \t10.400000 \t9.800000 \t9.700000 \t10.100000 \t11.500000 \t11.000000 \t10.800000 \t8.700000 \t9.300000 \t9.400000 \t9.600000 \t9.600000 \t10.500000 \t9.000000 \t\n",
            "10.700000 \t9.800000 \t9.700000 \t10.000000 \t9.700000 \t11.500000 \t10.800000 \t8.700000 \t8.800000 \t9.500000 \t9.400000 \t9.600000 \t10.500000 \t10.400000 \t9.200000 \t\n",
            "10.000000 \t9.800000 \t10.000000 \t9.700000 \t10.100000 \t11.700000 \t10.800000 \t8.800000 \t9.500000 \t9.300000 \t10.100000 \t9.600000 \t10.400000 \t9.200000 \t9.000000 \t\n"
          ]
        },
        {
          "output_type": "execute_result",
          "data": {
            "text/plain": [
              ""
            ]
          },
          "metadata": {},
          "execution_count": 94
        }
      ]
    },
    {
      "cell_type": "code",
      "source": [
        "%%writefile new.c\n",
        "\n",
        "#include <stidio.h>\n",
        "\n",
        "int main()\n",
        "{\n",
        "    \n",
        "    // Declaramos una variable tipo FILE y un apuntador hacia ella\n",
        "    FILE *Doc;\n",
        " \n",
        "    // Declaramos un vecctor en el que vamos a guardar los datos\n",
        "\t  double vector[BF];\n",
        "\n",
        "    // Abrimos el archivo. \"r\": Abrir un archivo existente para leer. \n",
        "    Doc = fopen ( \"Datos.csv\", \"r\" ); //Nombre del Archivo\n",
        " \n",
        "    // Aqui guardamos el número de columnas\n",
        "    int colum = 0;\n",
        "\t\n",
        "    if (Doc==NULL) { \n",
        "     \n",
        "        printf(\"Error al Abrir\\n\"); }\n",
        "\t  \n",
        "    else{ \n",
        "    \n",
        "        printf(\"Se accedio al archivo\\n\");\n",
        "\n",
        "        // Creamos un buffer de 100 para almacenar los datos. Los leemos como caracteres\n",
        "\t\t    char buffer[BF]; \n",
        "\t\t\n",
        " \n",
        "        // Se obtiene el primer renglón\n",
        "\t\t    fgets(buffer, BF, Doc); \n",
        "\t\t\n",
        "\t\t    // Calculamos el número de columnas con un apuntador hacia el buffer\n",
        "\t\t    char *current = buffer;\n",
        "\t\t    do{ \n",
        "\t\t\t      colum += ( *current == ',' );\n",
        "\t\t    } while(*current++);\n",
        "\n",
        "\t\t    // Convertimos a binario renglon tras renglon.\n",
        " \n",
        "        // Apuntamos en la dirección correcta\n",
        "\t\t    current = buffer;\n",
        "\t\t    int length = 0;\n",
        " \n",
        "\t\t    double* cell = vector;\n",
        "\t\t    int i = colum;\n",
        "\n",
        "\t\t    do{\n",
        "\n",
        "\t\t\t      current += length;\n",
        "\t\t\t      sscanf(current, \"%lf,%n\", cell++, &length );\n",
        "         \n",
        "\t\t    } while(i -- );\n",
        "\t\t\n",
        "        current += length;\n",
        " \n",
        "\t\t    sscanf( current, \"%lf\", cell);\n",
        "\t\t    i = colum;\n",
        "\t\t    cell = vector;\n",
        "\n",
        "\t\t    do {\n",
        "\t\t\t      *cell ++;\n",
        "\t\t    } while( i-- );\n",
        "\t\t\n",
        "\t\t    // Se termina de leer el archivo\n",
        "\t\t    int c = 1, Error = 0, col = colum+1; char dummy;\n",
        "\n",
        "\t\t    do{\n",
        "\n",
        "\t\t\t      Error = fscanf(Doc, \"%lf%c\", cell++, &dummy);\n",
        "         \n",
        "\t\t    } while(Error > 0);\n",
        "\n",
        "\n",
        "\t  }\n",
        "\t  \n",
        "    \n",
        "    fclose ( Doc );\n",
        "    \n",
        "    printf(\"Imprimimos los datos \\n\");\n",
        "    MatrixShow( 15, colum, vector );\n",
        "\n",
        "    printf(\"Imprimimos los datos transpuestos \\n\");\n",
        "    MatrixT( 15, colum, vector );\n",
        " \n",
        "    return 0;\n",
        "\n",
        "}"
      ],
      "metadata": {
        "id": "DAWFwSrxWd8-"
      },
      "execution_count": null,
      "outputs": []
    },
    {
      "cell_type": "markdown",
      "source": [
        "## Cómo leer un archivo csv en C\n",
        "\n",
        "**FILE** es la estructura que utiliza en C para la administración de los archivos. Se utiliza un apuntador hacia el archivo. Cada archivo que se abre necesita un apuntador de tipo *FILE*. Posteriormente el archivo se abre utilizando la instrucción **fopen**. \n",
        "\n",
        "Otro concepto que es necesario para abrir un archivo es el llamado **bufer**. Un buffer es un espacio de almacenamiento temporal. Todos los dispositivos de entrada poseen un buffer. Cuando nosotros queremos pasar mas de un valor de entrada de los requeridos, los valores restantes se almacenan en el *buffer*. Estos datos van automáticamente al siguiente input si este existe. \n",
        "\n",
        "Algunas otras funciones de C que es necesario recordar:\n",
        "* **fgets**: Recibe como argumento el apuntador tipo FILE del archivo cuyos datos se quieran leer. \n",
        "\n",
        "```\n",
        "fgets(char *str, int n, FILE *stream)\n",
        "```\n",
        "\n",
        "**str**: Este es el apuntador del vector de caracteres donde se almacena la lectura de la cadena, en este caso el buffer.\n",
        "\n",
        "**n**: Máximo número de caracteres por leer. Tamaño del buffer.\n",
        "\n",
        "**stream**: Apuntador al objeto tipo FILE.\n",
        "\n",
        "* **sscanf**: Lee la entrada formateada de una cadena de caracteres.\n",
        "\n",
        "\n",
        "```\n",
        "sscanf(const char *str, const char *format, ...)\n",
        "```\n",
        "**str**: Es la cadena de caracteres que se procesa como entrada para recuperar los datos. \n",
        "\n",
        "**format**: Esta es la cadena contiene uno o más de los siguientes elementos: espacios en blanco o saltos de línea y especificadores de formato.\n",
        "\n",
        "**Otros argumentos**: Esta función espera una secuencia de apuntadores como argumentos adicionales, cada uno apuntando a un objeto del tipo especificado por su etiqueta % correspondiente dentro de la cadena de formato, en el mismo orden. \n",
        "\n",
        "Para cada especificador de formato en la cadena de formato que recupera datos, se debe especificar un argumento adicional. Si desea almacenar el resultado de una operación sscanf en una variable, debe preceder su identificador con el operador de referencia, es decir, (&), como: \n",
        "\n",
        "```\n",
        "int n; \n",
        "sscanf(str,\"%d\",&n);\n",
        "```\n"
      ],
      "metadata": {
        "id": "PNyFCmqp5fNI"
      }
    },
    {
      "cell_type": "code",
      "source": [
        "%%writefile n.c\n",
        "\n",
        "#include <stdio.h>\n",
        "\n",
        "#define BF 100\n",
        "\n",
        "void ErrorManagement(int e)\n",
        "{\n",
        "    if (e == 0) {\n",
        "        \n",
        "        printf(\"Error al abrir el archivo\\n\");\n",
        "    }\n",
        "\n",
        "}\n",
        "\n",
        "int main(int nArg, char *arg[])\n",
        "{\n",
        "\n",
        "  // Declaramos una variable tipo FILE\n",
        "  FILE* Doc;\n",
        "\n",
        "  // Declaramos un vector en el que vamos a guardar los datos\n",
        "  double DatV[BF];  \n",
        " \n",
        "  // Abrimos el archivo. \"r\": Abrir un archivo existente para leer. \n",
        "  // Hacemos que el apuntador Doc apunte en la direccion de los datos\n",
        "  Doc = fopen ( arg[1], \"r\" );\n",
        " \n",
        "  // Manejamos el error: no se pueda abrir el archivo\n",
        "  if (Doc == NULL)\n",
        "  {\n",
        "      ErrorManagement( 0 );\n",
        "      return 0;\n",
        "  } \n",
        " \n",
        "  // Continuamos con la estructura para leer los datos\n",
        " \n",
        "  // Primero creamos un buffer para guardar los datos\n",
        "\tchar buffer[BF];\n",
        "\n",
        "  // Se lee la primera linea y se almacena en el buffer como variable char\n",
        "\tfgets(buffer, BF, Doc);\n",
        "  \n",
        "  /* \n",
        " \n",
        "    En este punto todo esta almacenado en el buffer como una sola cadena de \n",
        "    caracteres. Por lo que para poder acceso a los datos se tiene que convertir\n",
        "    esta cadena a binario, separando por comas \",\" ya que un archivo tipo csv\n",
        "    separa los datos por comas.\n",
        " \n",
        "  */\n",
        "  \n",
        "  // Creamos un apuntador que apunte a la cadena de caracteres\n",
        "  char* BfPtr = buffer;\n",
        " \n",
        "  // Calculamos el número de columnas contando las comas de la primera linea\n",
        "  int column = 0;\n",
        "    \n",
        "  do{\n",
        "      column += ( *BfPtr == ',' );\n",
        "\n",
        "  } while( *BfPtr ++);\n",
        " \n",
        "  // Convertimos a binario\n",
        " \n",
        "  // Apuntamos en la direccion del buffer\n",
        "  BfPtr = buffer;\n",
        " \n",
        "  // Apuntador al vector de datos\n",
        "  double* DatPtr = DatV;\n",
        "  \n",
        "  // Creamos un contador igual al número de columnas\n",
        "  // Declaramos el parámetro adicional para la función sscanf\n",
        "  int i = column, length;\n",
        "\n",
        "  do{\n",
        "        \n",
        "      BfPtr += length;\n",
        "      sscanf( BfPtr, \"%lf,%n\", DatPtr ++, &length );\n",
        "        \n",
        "    } while(i--);\n",
        "\n",
        "  printf(\"%lf\", DatPtr[0]);\n",
        "\n",
        "  // Cerramos el archivo, es muy importante cerrar el archivo\n",
        "  fclose ( Doc );\n",
        "\n",
        "  \n",
        "  return 0;\n",
        "\n",
        "\n",
        "}"
      ],
      "metadata": {
        "colab": {
          "base_uri": "https://localhost:8080/"
        },
        "id": "IBRJneCTQIdZ",
        "outputId": "a5a81542-3bbd-48b0-fd63-377357cf8047"
      },
      "execution_count": 124,
      "outputs": [
        {
          "output_type": "stream",
          "name": "stdout",
          "text": [
            "Overwriting n.c\n"
          ]
        }
      ]
    },
    {
      "cell_type": "code",
      "source": [
        "%%shell\n",
        "\n",
        "gcc n.c -o n\n",
        "./n Datos.csv"
      ],
      "metadata": {
        "colab": {
          "base_uri": "https://localhost:8080/"
        },
        "id": "1opbmgzKRDlv",
        "outputId": "73dd5b4a-7be7-429a-bfdd-36c4b9902f16"
      },
      "execution_count": 125,
      "outputs": [
        {
          "output_type": "stream",
          "name": "stdout",
          "text": [
            "0.000000"
          ]
        },
        {
          "output_type": "execute_result",
          "data": {
            "text/plain": [
              ""
            ]
          },
          "metadata": {},
          "execution_count": 125
        }
      ]
    },
    {
      "cell_type": "code",
      "source": [
        "%%writefile lectura.c\n",
        "\n",
        "#include <stdio.h>\n",
        "\n",
        "int main()\n",
        "{\n",
        "    \n",
        "    \n",
        "    char linea[] = \"10,2,3,4,5\";\n",
        "    \n",
        "    char* current = linea;\n",
        "    int column = 0;\n",
        "    \n",
        "    do{\n",
        "        column += ( *current == ',' );\n",
        "\n",
        "    } while( *current ++);\n",
        "    \n",
        "    \n",
        "    // Convert to binary\n",
        "    \n",
        "    double vector[10];\n",
        "    current = linea;\n",
        "    int length;\n",
        "    double* cell = vector;\n",
        "    int i = column; \n",
        "    \n",
        "    do{\n",
        "        \n",
        "        current += length;\n",
        "        sscanf( current, \"%lf,%n\", cell ++, &length );\n",
        "        \n",
        "    } while(i--);\n",
        "    \n",
        "    current += length;\n",
        "    sscanf( current, \"%lf\", cell );\n",
        "    \n",
        "    i = column;\n",
        "    cell = vector;\n",
        "    \n",
        "    do{\n",
        "        \n",
        "        printf(\"%lf\\n\", *cell ++);\n",
        "\n",
        "    } while( i-- );\n",
        "    \n",
        "    printf( \"%lf, %d\", *vector , length );\n",
        "    \n",
        "    \n",
        "    \n",
        "\n",
        "    return 0;\n",
        "}\n"
      ],
      "metadata": {
        "colab": {
          "base_uri": "https://localhost:8080/"
        },
        "id": "uLClea6TL5d5",
        "outputId": "5c682357-3064-48b9-df1a-98e39aa99460"
      },
      "execution_count": null,
      "outputs": [
        {
          "output_type": "stream",
          "name": "stdout",
          "text": [
            "Writing lectura.c\n"
          ]
        }
      ]
    },
    {
      "cell_type": "code",
      "source": [
        "%%shell\n",
        "gcc lectura.c -o lectura\n",
        "./lectura"
      ],
      "metadata": {
        "colab": {
          "base_uri": "https://localhost:8080/"
        },
        "id": "sltEd5V6PZT3",
        "outputId": "e722e15b-e924-442a-d53a-a4863b8bf7dc"
      },
      "execution_count": null,
      "outputs": [
        {
          "output_type": "stream",
          "name": "stdout",
          "text": [
            "10.000000\n",
            "2.000000\n",
            "3.000000\n",
            "4.000000\n",
            "5.000000\n",
            "10.000000, 2"
          ]
        },
        {
          "output_type": "execute_result",
          "data": {
            "text/plain": [
              ""
            ]
          },
          "metadata": {},
          "execution_count": 51
        }
      ]
    },
    {
      "cell_type": "code",
      "source": [
        ""
      ],
      "metadata": {
        "id": "m466frcXPbO5"
      },
      "execution_count": null,
      "outputs": []
    }
  ]
}