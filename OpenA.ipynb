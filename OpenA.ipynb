{
  "nbformat": 4,
  "nbformat_minor": 0,
  "metadata": {
    "colab": {
      "name": "OpenA.ipynb",
      "provenance": [],
      "authorship_tag": "ABX9TyNUHgiWoH9k/ZnMnKoBTRnP",
      "include_colab_link": true
    },
    "kernelspec": {
      "name": "python3",
      "display_name": "Python 3"
    },
    "language_info": {
      "name": "python"
    }
  },
  "cells": [
    {
      "cell_type": "markdown",
      "metadata": {
        "id": "view-in-github",
        "colab_type": "text"
      },
      "source": [
        "<a href=\"https://colab.research.google.com/github/GuillermoSego/TSF/blob/main/OpenA.ipynb\" target=\"_parent\"><img src=\"https://colab.research.google.com/assets/colab-badge.svg\" alt=\"Open In Colab\"/></a>"
      ]
    },
    {
      "cell_type": "markdown",
      "source": [
        "## Cómo leer un archivo csv en C\n",
        "\n",
        "**FILE** es la estructura que utiliza en C para la administración de los archivos. Se utiliza un apuntador hacia el archivo. Cada archivo que se abre necesita un apuntador de tipo *FILE*. Posteriormente el archivo se abre utilizando la instrucción **fopen**. \n",
        "\n",
        "Otro concepto que es necesario para abrir un archivo es el llamado **bufer**. Un buffer es un espacio de almacenamiento temporal. Todos los dispositivos de entrada poseen un buffer. Cuando nosotros queremos pasar mas de un valor de entrada de los requeridos, los valores restantes se almacenan en el *buffer*. Estos datos van automáticamente al siguiente input si este existe. "
      ],
      "metadata": {
        "id": "PNyFCmqp5fNI"
      }
    },
    {
      "cell_type": "code",
      "source": [
        "%%writefile op.c\n",
        "\n",
        "#include <stdio.h>\n",
        "\n",
        "#define BF 100\n",
        "\n",
        "void MatrixShow(int m, int n, double v[])\n",
        "{\n",
        "    \n",
        "     \n",
        "    int i, j, k=0;\n",
        "    \n",
        "    for(i=0 ; i<m ; i++){\n",
        "        \n",
        "        for (j=0 ; j<n ; j ++){\n",
        "            \n",
        "            printf(\"%lf \\t\", v[k]);\n",
        "            k ++;\n",
        "        }\n",
        "        \n",
        "        printf(\"\\n\");\n",
        "    }\n",
        "       \n",
        "}\n",
        "\n",
        "void MatrixT(int m, int n, double v[]){\n",
        "    \n",
        "    int i, j, k;\n",
        "    \n",
        "    for (i=0; i<n; i++){\n",
        "        \n",
        "        k = i;\n",
        "        \n",
        "        for(j=0; j<m; j++){\n",
        "            \n",
        "            printf(\"%lf \\t\", v[k]);\n",
        "            k=k+n;\n",
        "            \n",
        "        }\n",
        "        \n",
        "        printf(\"\\n\");\n",
        "        \n",
        "    }\n",
        "    \n",
        "}\n",
        "\n",
        "\n",
        "\n",
        "int main()\n",
        "{\n",
        "    \n",
        "    // Declaramos una variable tipo FILE y un apuntador hacia ella\n",
        "    FILE *Doc;\n",
        " \n",
        "    // Declaramos un vecctor en el que vamos a guardar los datos\n",
        "\t  double vector[BF];\n",
        "\n",
        "    // Abrimos el archivo. \"r\": Abrir un archivo existente para leer. \n",
        "    Doc = fopen ( \"Datos.csv\", \"r\" ); //Nombre del Archivo\n",
        " \n",
        "    // Aqui guardamos el número de columnas\n",
        "    int colum = 0;\n",
        "\t\n",
        "    if (Doc==NULL) { \n",
        "     \n",
        "        printf(\"Error al Abrir\\n\"); }\n",
        "\t  \n",
        "    else{ \n",
        "    \n",
        "        printf(\"Se accedio al archivo\\n\");\n",
        "\n",
        "        // Creamos un buffer de 100 para almacenar los datos. Los leemos como caracteres\n",
        "\t\t    char buffer[BF]; \n",
        "\t\t\n",
        " \n",
        "        // Se obtiene el primer renglón\n",
        "\t\t    fgets(buffer, BF, Doc); \n",
        "\t\t\n",
        "\t\t    // Calculamos el número de columnas con un apuntador hacia el buffer\n",
        "\t\t    char *current = buffer;\n",
        "\t\t    do{ \n",
        "\t\t\t      colum += ( *current == ',' );\n",
        "\t\t    } while(*current++);\n",
        "\n",
        "\t\t    // Convertimos a binario renglon tras renglon.\n",
        " \n",
        "        // Apuntamos en la dirección correcta\n",
        "\t\t    current = buffer;\n",
        "\t\t    int length = 0;\n",
        " \n",
        "\t\t    double* cell = vector;\n",
        "\t\t    int i = colum;\n",
        "\n",
        "\t\t    do{\n",
        "\n",
        "\t\t\t      current += length;\n",
        "\t\t\t      sscanf(current, \"%lf,%n\", cell++, &length );\n",
        "         \n",
        "\t\t    } while(i -- );\n",
        "\t\t\n",
        "        current += length;\n",
        " \n",
        "\t\t    sscanf( current, \"%lf\", cell);\n",
        "\t\t    i = colum;\n",
        "\t\t    cell = vector;\n",
        "\n",
        "\t\t    do {\n",
        "\t\t\t      *cell ++;\n",
        "\t\t    } while( i-- );\n",
        "\t\t\n",
        "\t\t    // Se termina de leer el archivo\n",
        "\t\t    int c = 1, Error = 0, col = colum+1; char dummy;\n",
        "\n",
        "\t\t    do{\n",
        "\n",
        "\t\t\t      Error = fscanf(Doc, \"%lf%c\", cell++, &dummy);\n",
        "         \n",
        "\t\t    } while(Error > 0);\n",
        "\n",
        "\n",
        "\t  }\n",
        "\t  \n",
        "    \n",
        "    fclose ( Doc );\n",
        "    \n",
        "    printf(\"Imprimimos los datos \\n\");\n",
        "    MatrixShow( 15, colum, vector );\n",
        "\n",
        "\n",
        "    printf(\"Imprimimos los datos transpuestos \\n\");\n",
        "    MatrixT( 15, colum, vector );\n",
        " \n",
        "    return 0;\n",
        "\n",
        "}"
      ],
      "metadata": {
        "id": "0cT_MJhU7gjZ",
        "colab": {
          "base_uri": "https://localhost:8080/"
        },
        "outputId": "dddf636c-c3ac-4983-add1-b993ffea340b"
      },
      "execution_count": 81,
      "outputs": [
        {
          "output_type": "stream",
          "name": "stdout",
          "text": [
            "Overwriting op.c\n"
          ]
        }
      ]
    },
    {
      "cell_type": "code",
      "source": [
        "%%shell\n",
        "\n",
        "gcc op.c -o op\n",
        "./op"
      ],
      "metadata": {
        "colab": {
          "base_uri": "https://localhost:8080/"
        },
        "id": "KfUJYJqTygLu",
        "outputId": "74950724-57ee-49cd-8a5a-b35967783bb9"
      },
      "execution_count": 82,
      "outputs": [
        {
          "output_type": "stream",
          "name": "stdout",
          "text": [
            "Se accedio al archivo\n",
            "Imprimimos los datos \n",
            "10.000000 \t10.700000 \t10.700000 \t10.000000 \t\n",
            "10.700000 \t10.400000 \t9.800000 \t9.800000 \t\n",
            "10.400000 \t9.800000 \t9.700000 \t10.000000 \t\n",
            "10.000000 \t9.700000 \t10.000000 \t9.700000 \t\n",
            "10.100000 \t10.100000 \t9.700000 \t10.100000 \t\n",
            "11.700000 \t11.500000 \t11.500000 \t11.700000 \t\n",
            "11.500000 \t11.000000 \t10.800000 \t10.800000 \t\n",
            "11.000000 \t10.800000 \t8.700000 \t8.800000 \t\n",
            "8.800000 \t8.700000 \t8.800000 \t9.500000 \t\n",
            "9.300000 \t9.300000 \t9.500000 \t9.300000 \t\n",
            "10.100000 \t9.400000 \t9.400000 \t10.100000 \t\n",
            "9.400000 \t9.600000 \t9.600000 \t9.600000 \t\n",
            "9.600000 \t9.600000 \t10.500000 \t10.400000 \t\n",
            "10.400000 \t10.500000 \t10.400000 \t9.200000 \t\n",
            "9.000000 \t9.000000 \t9.200000 \t9.000000 \t\n",
            "Imprimimos los datos transpuestos \n",
            "10.000000 \t10.700000 \t10.400000 \t10.000000 \t10.100000 \t11.700000 \t11.500000 \t11.000000 \t8.800000 \t9.300000 \t10.100000 \t9.400000 \t9.600000 \t10.400000 \t9.000000 \t\n",
            "10.700000 \t10.400000 \t9.800000 \t9.700000 \t10.100000 \t11.500000 \t11.000000 \t10.800000 \t8.700000 \t9.300000 \t9.400000 \t9.600000 \t9.600000 \t10.500000 \t9.000000 \t\n",
            "10.700000 \t9.800000 \t9.700000 \t10.000000 \t9.700000 \t11.500000 \t10.800000 \t8.700000 \t8.800000 \t9.500000 \t9.400000 \t9.600000 \t10.500000 \t10.400000 \t9.200000 \t\n",
            "10.000000 \t9.800000 \t10.000000 \t9.700000 \t10.100000 \t11.700000 \t10.800000 \t8.800000 \t9.500000 \t9.300000 \t10.100000 \t9.600000 \t10.400000 \t9.200000 \t9.000000 \t\n"
          ]
        },
        {
          "output_type": "execute_result",
          "data": {
            "text/plain": [
              ""
            ]
          },
          "metadata": {},
          "execution_count": 82
        }
      ]
    }
  ]
}