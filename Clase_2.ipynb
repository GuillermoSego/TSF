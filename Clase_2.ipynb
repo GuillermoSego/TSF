{
  "nbformat": 4,
  "nbformat_minor": 0,
  "metadata": {
    "colab": {
      "name": "Clase 2.ipynb",
      "provenance": [],
      "authorship_tag": "ABX9TyNhdjUq4fvmKMzX+N3Dng8d",
      "include_colab_link": true
    },
    "kernelspec": {
      "name": "python3",
      "display_name": "Python 3"
    },
    "language_info": {
      "name": "python"
    }
  },
  "cells": [
    {
      "cell_type": "markdown",
      "metadata": {
        "id": "view-in-github",
        "colab_type": "text"
      },
      "source": [
        "<a href=\"https://colab.research.google.com/github/GuillermoSego/TSF/blob/main/Clase_2.ipynb\" target=\"_parent\"><img src=\"https://colab.research.google.com/assets/colab-badge.svg\" alt=\"Open In Colab\"/></a>"
      ]
    },
    {
      "cell_type": "markdown",
      "source": [
        "# Introducción a Principal Component Analysis\n",
        "\n",
        "Uno de los prinicpios básicos de la optimización es encontrar un algoritmo que minimice las operaciones en la computadora.\n",
        "\n",
        "Es importante programar bien desde el prinicipio, trabajar de una manera optimizada.\n",
        "\n",
        "El campo del análisis multivariable consiste en aquellas técnicas estadísticas que consideran dos o mas variables aleatorias relacionadas entre sí, como una sola entidad tratando de generar un resultado general tomando la relación entre las variables en cuenta. \n",
        "\n",
        "El análisis multivariable trabaja el problema como un todo, tratamos todos \n",
        "datos como un conjunto de números. Si tenemos por ejemplo una gran cantidad\n",
        "de datos de dos poblaciones diferentes, una manera de abordarlo es hacer \n",
        "analsis independientes, pero esto no es optimo. El analisis multivariable \n",
        "aborda el conjunto de datos no como poblaciones diferentes sino como todo. \n",
        "\n",
        "Existen muchas técnicas en el campo del análisis multivariado y a pesar de que estas son empleadas en la inferencia estadística, la mayor de las aplicaciones son en el análisis de datos, en particular las técnicas que describen la estructura multivariable de los datos. *Principal Component Analysis* (PCA) es una técnica que mientras se utiliza como técnica descriptiva, es posible utilizarla en muchos procedimientos inferenciales también. \n",
        "\n",
        "## Un ejemplo hipotético\n",
        "\n",
        "Suponga que se tiene un proceso en el cual se realiza una prueba de la concentración de un componente químico en una solución. Se probaron dos métodos distintos. Asumimos que los dos métodos son intercambiables. Se obtuvieron 15 mediciones de cada método. \n",
        "\n",
        "La pregunta es ¿Qué es lo que podemos hacer con estos datos?. Es posible hacer muchos test estadísticos, por ejemplo un t-test, o un análisis de varianza ANOVA. Estos métodos nos llevan a tratar ambos métodos por separado lo cual además de ser no eficiente, induce variabilidad en los resultados. Para esto podemos hacer un análisis multivariable. \n",
        "\n",
        "La manera de introducir un análisis multivariable en este caso, podría ser utilizando una regresión. Sin embargo, si realizamos una regresión sobre el primer método para posterior predecir el segundo, y después realizamos lo mismo pero ahora con el método dos para predecir el primero, tendríamos dos ecuaciones de regresión, lo cual induce la variabilidad que se quería evitar desde el principio. Se requiere una sola línea que sea capaz de predecir la dirección de ambos métodos. Esta línea es llamada *línea ortogonal* y es una regresión ortogonal en la que a diferencia de una de mínimos cuadrados, esta no minimiza la distancia cuadrada entre los puntos, sino que minimiza la distancia entre los puntos sin ser necesariamente un ángulo recto. \n",
        "\n",
        "\n",
        "\n",
        "\n",
        "\n"
      ],
      "metadata": {
        "id": "431G8mJqw-Gi"
      }
    },
    {
      "cell_type": "code",
      "execution_count": 7,
      "metadata": {
        "id": "a9jVfSZyBZGq",
        "colab": {
          "base_uri": "https://localhost:8080/"
        },
        "outputId": "fd58f3aa-bcbe-4de2-bed3-99a6f5a16f84"
      },
      "outputs": [
        {
          "output_type": "stream",
          "name": "stdout",
          "text": [
            "Writing hola.c\n"
          ]
        }
      ],
      "source": [
        "%%writefile hola.c\n",
        "\n",
        "#include <stdio.h>\n",
        "\n",
        "int main()\n",
        "{\n",
        "    printf(\"Hello World\");\n",
        "\n",
        "    return 0;\n",
        "}"
      ]
    },
    {
      "cell_type": "code",
      "source": [
        "%%shell\n",
        "\n",
        "gcc hola.c -o output\n",
        "./output"
      ],
      "metadata": {
        "colab": {
          "base_uri": "https://localhost:8080/"
        },
        "id": "ElTKsla0vS5P",
        "outputId": "fe95cae5-5462-458e-ec3f-78223136fbc2"
      },
      "execution_count": 10,
      "outputs": [
        {
          "output_type": "stream",
          "name": "stdout",
          "text": [
            "Hello World"
          ]
        },
        {
          "output_type": "execute_result",
          "data": {
            "text/plain": [
              ""
            ]
          },
          "metadata": {},
          "execution_count": 10
        }
      ]
    },
    {
      "cell_type": "code",
      "source": [
        ""
      ],
      "metadata": {
        "id": "r6XPdjcEvsHS"
      },
      "execution_count": null,
      "outputs": []
    }
  ]
}