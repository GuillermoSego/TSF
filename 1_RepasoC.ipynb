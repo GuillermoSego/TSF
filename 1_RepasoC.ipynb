{
  "nbformat": 4,
  "nbformat_minor": 0,
  "metadata": {
    "colab": {
      "name": "1_RepasoC.ipynb",
      "provenance": [],
      "authorship_tag": "ABX9TyNb1P097FehNtukW+GXvxrA",
      "include_colab_link": true
    },
    "kernelspec": {
      "name": "python3",
      "display_name": "Python 3"
    },
    "language_info": {
      "name": "python"
    }
  },
  "cells": [
    {
      "cell_type": "markdown",
      "metadata": {
        "id": "view-in-github",
        "colab_type": "text"
      },
      "source": [
        "<a href=\"https://colab.research.google.com/github/GuillermoSego/TSF/blob/main/1_RepasoC.ipynb\" target=\"_parent\"><img src=\"https://colab.research.google.com/assets/colab-badge.svg\" alt=\"Open In Colab\"/></a>"
      ]
    },
    {
      "cell_type": "markdown",
      "source": [
        "\n",
        "# Repaso C"
      ],
      "metadata": {
        "id": "uNWaCgAH6yry"
      }
    },
    {
      "cell_type": "markdown",
      "source": [
        "El signo (#) Indica que es una directiva del preprocesador. La directiva stdio.h Es una biblioteca\n",
        "\n",
        "Lo que esta antes del programa se manda al preprocesador"
      ],
      "metadata": {
        "id": "zj_M19Kh7GBi"
      }
    },
    {
      "cell_type": "code",
      "execution_count": null,
      "metadata": {
        "colab": {
          "base_uri": "https://localhost:8080/"
        },
        "id": "9em2qwXc6wyz",
        "outputId": "af9a5a6d-6ab5-46e2-e9d6-34658f34a21f"
      },
      "outputs": [
        {
          "output_type": "stream",
          "name": "stdout",
          "text": [
            "Writing hola.c\n"
          ]
        }
      ],
      "source": [
        "%%writefile hola.c\n",
        "\n",
        "#include <stdio.h>\n",
        "\n",
        "int main() //Indica que el programa comienza, es lo que se manda a la memoria\n",
        "{\n",
        " \n",
        "    //Primera parte\n",
        "       \n",
        "    printf(\"Hola mundo\");\n",
        "    // Es una cadena de caracteres, que en realidad es una matriz de numeros, \n",
        "    // transformada utilizando codigo ASCII \n",
        "\n",
        "    return 0;\n",
        "}"
      ]
    },
    {
      "cell_type": "code",
      "source": [
        "%%shell\n",
        "gcc hola.c -o output\n",
        "./output"
      ],
      "metadata": {
        "colab": {
          "base_uri": "https://localhost:8080/"
        },
        "id": "J_y1EAMb7l5g",
        "outputId": "e8cfe057-a610-4fe1-bd01-397cab5a5c19"
      },
      "execution_count": null,
      "outputs": [
        {
          "output_type": "stream",
          "name": "stdout",
          "text": [
            "Hola mundo"
          ]
        },
        {
          "output_type": "execute_result",
          "data": {
            "text/plain": [
              ""
            ]
          },
          "metadata": {},
          "execution_count": 2
        }
      ]
    },
    {
      "cell_type": "markdown",
      "source": [
        "## El algoritmo de Horner\n",
        "\n",
        "Trata acerca de la factorizacion de un polinomio. Es de las maneras mas eficientes de evaluar un polinomio."
      ],
      "metadata": {
        "id": "HP5BI7xI7zDD"
      }
    },
    {
      "cell_type": "code",
      "source": [
        "%%writefile Horner.c\n",
        "\n",
        "#include <stdio.h>\n",
        "\n",
        "int main()\n",
        "{\n",
        "\n",
        "    double coeff[] = {2,-5,10};\n",
        "    double accum = coeff[0];\n",
        "    double x = -3;\n",
        "    int index = 1;\n",
        "\n",
        "    do{\n",
        "        accum = accum*x + coeff[index];\n",
        "        index ++;\n",
        "    } while(index <sizeof(coeff) / sizeof(double)); // Es una macro me sirve \n",
        "    //para saber el tamaño de un arreglo que ya esta declarado\n",
        "    \n",
        "    printf(\"%8.3lf\", accum); //1234.123 tenemos 8 caracteres 3 decimales\n",
        "    return 0;\n",
        "}"
      ],
      "metadata": {
        "colab": {
          "base_uri": "https://localhost:8080/"
        },
        "id": "KlDVUwEF7q5N",
        "outputId": "ec56aedc-ee94-4dcf-f350-678e7889fdec"
      },
      "execution_count": null,
      "outputs": [
        {
          "output_type": "stream",
          "name": "stdout",
          "text": [
            "Writing Horner.c\n"
          ]
        }
      ]
    },
    {
      "cell_type": "code",
      "source": [
        "%%shell\n",
        "gcc Horner.c -o Horner\n",
        "./Horner"
      ],
      "metadata": {
        "colab": {
          "base_uri": "https://localhost:8080/"
        },
        "id": "h67_-ezc8IzV",
        "outputId": "ea1a2026-50c4-4309-f5e9-01ad60d7fc58"
      },
      "execution_count": null,
      "outputs": [
        {
          "output_type": "stream",
          "name": "stdout",
          "text": [
            "  43.000"
          ]
        },
        {
          "output_type": "execute_result",
          "data": {
            "text/plain": [
              ""
            ]
          },
          "metadata": {},
          "execution_count": 6
        }
      ]
    },
    {
      "cell_type": "markdown",
      "source": [
        "Ahora, para graficar el Algoritmo, transformamos el Algoritmoen una función"
      ],
      "metadata": {
        "id": "3rzN9F_w8Wbd"
      }
    },
    {
      "cell_type": "code",
      "source": [
        "%%writefile Hornerfunc.c\n",
        "\n",
        "#include <stdio.h>\n",
        "\n",
        "double HornerRule( double x, double *coeff , int nCoeff){\n",
        "    \n",
        "    double accum = coeff[0];\n",
        "    int index = 1;\n",
        "\n",
        "    do{\n",
        "        accum = accum*x + coeff[index];\n",
        "        index ++;\n",
        "    } while(index < nCoeff); // Es una macro me sirve \n",
        "    //para saber el tamaño de un arreglo que ya esta declarado\n",
        "    \n",
        "    return accum;\n",
        "    \n",
        "}\n",
        "\n",
        "int main(){\n",
        "    \n",
        "\n",
        "\n",
        "    double coeff[] = {2,-5, 10};\n",
        "    \n",
        "    double x = -3;\n",
        "    int n = 100;\n",
        "    \n",
        "    do{\n",
        "        printf(\"%8.3lf, %8.3lf\\n\", x, \n",
        "        HornerRule(x, coeff, sizeof(coeff) / sizeof(double)));\n",
        "        x += 0.1;\n",
        "        \n",
        "    } while(-- n);\n",
        "    \n",
        "    return 0;\n",
        "    \n",
        "}"
      ],
      "metadata": {
        "colab": {
          "base_uri": "https://localhost:8080/"
        },
        "id": "EgXQqkbq8Ou5",
        "outputId": "9fa1e723-37e9-41fc-9ce3-405e50764f7e"
      },
      "execution_count": null,
      "outputs": [
        {
          "output_type": "stream",
          "name": "stdout",
          "text": [
            "Overwriting Hornerfunc.c\n"
          ]
        }
      ]
    },
    {
      "cell_type": "code",
      "source": [
        "%%shell\n",
        "gcc Hornerfunc.c -o func\n",
        "./func"
      ],
      "metadata": {
        "id": "q9dI9nO48tEZ"
      },
      "execution_count": null,
      "outputs": []
    },
    {
      "cell_type": "markdown",
      "source": [
        "## Notas\n",
        "\n",
        "Los ciclos descentes son mas eficientes que los ciclos ascendentes hacen una instruccion menos de ensamblador.\n",
        "\n",
        "UTF-8 es una convención para el uso de los símbolos diacríticos, es mejor usar esta.\n",
        "\n",
        "Cuando se corre un programa de la linea de comandos, es decir int main( cosas )\n",
        "es posible darle valor a las variables antes de compilar el programa.\n"
      ],
      "metadata": {
        "id": "40epfVyb8554"
      }
    }
  ]
}