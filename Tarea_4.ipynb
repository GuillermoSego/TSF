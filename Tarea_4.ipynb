{
  "nbformat": 4,
  "nbformat_minor": 0,
  "metadata": {
    "colab": {
      "name": "Tarea_4.ipynb",
      "provenance": [],
      "authorship_tag": "ABX9TyNPuO7FBFAH9acvlWbWjVin",
      "include_colab_link": true
    },
    "kernelspec": {
      "name": "python3",
      "display_name": "Python 3"
    },
    "language_info": {
      "name": "python"
    }
  },
  "cells": [
    {
      "cell_type": "markdown",
      "metadata": {
        "id": "view-in-github",
        "colab_type": "text"
      },
      "source": [
        "<a href=\"https://colab.research.google.com/github/GuillermoSego/TSF/blob/main/Tarea_4.ipynb\" target=\"_parent\"><img src=\"https://colab.research.google.com/assets/colab-badge.svg\" alt=\"Open In Colab\"/></a>"
      ]
    },
    {
      "cell_type": "markdown",
      "source": [
        "# Matriz de Covarianza\n",
        "\n",
        "**Tarea** El objetivo de la tarea es calcular la matriz de covarianza con base en datos del libro, utilizando apuntadores. \n",
        "\n",
        "Calculamos la covarianza entre dos conjuntos de datos utilizando la ecuación\n",
        "\n",
        "$$\n",
        "S_{xy} = \\frac{n \\sum x_i y_i - \\sum x_i \\sum y_i}{n(n-1)}\n",
        "$$\n",
        "\n",
        "En cuanto a la varianza, esta se calcula a partir de un solo conjunto de datos y se utiliza:\n",
        "\n",
        "$$\n",
        "s^2 = \\frac{n\\sum x_i^2 - (\\sum x_i)^2}{n(n-1)}\n",
        "$$"
      ],
      "metadata": {
        "id": "nS4aj3BWdKvq"
      }
    },
    {
      "cell_type": "code",
      "execution_count": null,
      "metadata": {
        "id": "0Xl9VBb5cqer"
      },
      "outputs": [],
      "source": [
        "#include <stdio.h>\n",
        "\n",
        "\n",
        "int main()\n",
        "{\n",
        "    \n",
        "    // Introducimos los datos directo en dos vectores\n",
        "\n",
        "    double x_1[] = {10.0, 10.4, 9.7, 9.7, 11.7, 11.0, 8.7, 9.5, 10.1, 9.6, 10.5, 9.2, 11.3, 10.1, 8.5};\n",
        "    double x_2[] = {10.7, 9.8, 10.0, 10.1, 11.5, 10.8, 8.8, 9.3, 9.4, 9.6, 10.4, 9.0, 11.6, 9.8, 9.2};\n",
        "\n",
        "    double* apunta_1 = x_1;\n",
        "    double* apunta_2 = x_2;\n",
        "    \n",
        "    double sum_xy = 0, sum_x = 0, sum_y = 0, sum_x2 = 0, sum_y2 = 0;\n",
        "    int n = sizeof(x_1)/sizeof(double), i=0;\n",
        "    \n",
        "    \n",
        "    do{\n",
        "        \n",
        "        sum_xy += (*apunta_1) * (*apunta_2);\n",
        "        \n",
        "        sum_x2 += (*apunta_1) * (*apunta_1);\n",
        "        sum_y2 += (*apunta_2) * (*apunta_2);\n",
        "        \n",
        "        sum_x  += *(apunta_1 ++);\n",
        "        sum_y  += *(apunta_2 ++);\n",
        "        \n",
        "        i++;\n",
        "        \n",
        "    } while(i<n);\n",
        "    \n",
        "    double SMatrix[4];\n",
        "    \n",
        "    double* SPter = SMatrix;\n",
        "\n",
        "    i = 0;\n",
        " \n",
        "    do {\n",
        "        \n",
        "        if ( (i % 2) == 0 ) {\n",
        "            *SPter = (n * sum_xy - sum_x * sum_y)/( n*(n-1) );\n",
        "            *SPter ++; \n",
        "        }\n",
        "        else {\n",
        "            *SPter = ( n * sum_x2 - sum_x * sum_x)*( n*(n-1) );\n",
        "            *SPter ++;\n",
        "            \n",
        "        }\n",
        "        \n",
        "        i ++;\n",
        "    } while(i < (sizeof(SMatrix)/sizeof(double)) );\n",
        "    \n",
        "    \n",
        "    \n",
        "    return 0;\n",
        "}\n",
        "\n"
      ]
    },
    {
      "cell_type": "code",
      "source": [
        "#include <stdio.h>\n",
        "\n",
        "#define Studies = 2\n",
        "\n",
        "int main()\n",
        "{\n",
        "    \n",
        "    // Introducimos los datos directo en dos vectores\n",
        "\n",
        "    double x_1[] = {10.0, 10.4, 9.7, 9.7, 11.7, 11.0, 8.7, 9.5, 10.1, 9.6, 10.5, 9.2, 11.3, 10.1, 8.5};\n",
        "    double x_2[] = {10.7, 9.8, 10.0, 10.1, 11.5, 10.8, 8.8, 9.3, 9.4, 9.6, 10.4, 9.0, 11.6, 9.8, 9.2};\n",
        "\n",
        "    double* apunta_1 = x_1;\n",
        "    double* apunta_2 = x_2;\n",
        "    \n",
        "    double sum_x[Studies], sum_x2[Studies], sum_xx[(Studies*Studies - Studies)/2];\n",
        "    \n",
        "    double sum_xy = 0, sum_x = 0, sum_y = 0, sum_x2 = 0, sum_y2 = 0;\n",
        "    int n = sizeof(x_1)/sizeof(double), i=0;\n",
        "    \n",
        "    \n",
        "    do{\n",
        "        \n",
        "        *sum_xx += (*apunta_1) * (*apunta_2);\n",
        "        \n",
        "        *sum_x2 += (*apunta_1) * (*apunta_1);\n",
        "        \n",
        "        *sum_x  += *(apunta_1 ++);\n",
        "        \n",
        "        i++;\n",
        "        \n",
        "    } while(i<n);\n",
        "    \n",
        "    double SMatrix[4];\n",
        "    \n",
        "    double* SPter = SMatrix;\n",
        "\n",
        "    i = 0;\n",
        " \n",
        "    do {\n",
        "        \n",
        "        if ( (i % 2) == 0 ) {\n",
        "            *SPter = (n * sum_xy - sum_x * sum_y)/( n*(n-1) );\n",
        "            *SPter ++; \n",
        "        }\n",
        "        else {\n",
        "            *SPter = ( n * sum_x2 - sum_x * sum_x)*( n*(n-1) );\n",
        "            *SPter ++;\n",
        "            \n",
        "        }\n",
        "        \n",
        "        i ++;\n",
        "    } while(i < (sizeof(SMatrix)/sizeof(double)) );\n",
        "    \n",
        "    \n",
        "    \n",
        "    return 0;\n",
        "}"
      ],
      "metadata": {
        "id": "4DwjZzeGICXu"
      },
      "execution_count": null,
      "outputs": []
    },
    {
      "cell_type": "code",
      "source": [
        "%%writefile nuevo.c\n",
        "\n",
        "#include <stdio.h>\n",
        "\n",
        "#define ST 2\n",
        "#define SA 15\n",
        "\n",
        "void MatrixShow(int m, int n, double v[]){\n",
        "    \n",
        "    int i, j, k=0;\n",
        "    \n",
        "    for(i=0 ; i<m ; i++){\n",
        "        \n",
        "        for (j=0 ; j<n ; j ++){\n",
        "            \n",
        "            printf(\"%lf \\t\", v[k]);\n",
        "            k ++;\n",
        "        }\n",
        "        \n",
        "        printf(\"\\n\");\n",
        "    }\n",
        "}\n",
        "\n",
        "int main()\n",
        "{\n",
        "    \n",
        "    // Introducimos los datos en una sola matriz\n",
        "\n",
        "    double DatM[] = {\n",
        "        10.0, 10.4, 9.7, 9.7, 11.7, 11.0, 8.7, 9.5, 10.1, 9.6, 10.5, 9.2, 11.3, 10.1, 8.5,\n",
        "        10.7, 9.8, 10.0, 10.1, 11.5, 10.8, 8.8, 9.3, 9.4, 9.6, 10.4, 9.0, 11.6, 9.8, 9.2\n",
        "    };\n",
        " \n",
        "    double* DatPter = DatM;\n",
        " \n",
        "    double sum_x[ST], sum_x2[ST], sum_xx[(ST*ST - ST)/2];\n",
        " \n",
        "    double* sum_xPter  = sum_x;\n",
        "    double* sum_x2Pter = sum_x2;\n",
        "    double* sum_xxPter = sum_xx;\n",
        "    \n",
        "    int i = 0, j = 0;\n",
        "    \n",
        "    \n",
        "    do{\n",
        "        do{\n",
        "            \n",
        "            if (i<ST-1) {\n",
        "                *sum_xxPter += *(DatPter) * *(DatPter + SA);\n",
        "                //printf(\"%lf \\n\", *sum_xxPter);\n",
        "            }\n",
        "            \n",
        "            *sum_x2Pter += *(DatPter) * *(DatPter);\n",
        "            *sum_xPter  += *(DatPter ++);\n",
        "            \n",
        "            j ++;\n",
        "            \n",
        "        } while(j<SA);\n",
        "        \n",
        "        *sum_xPter ++;\n",
        "        *sum_x2Pter ++;\n",
        "        j = 0;\n",
        "        i ++;\n",
        "    } while(i<ST);\n",
        "\n",
        "    \n",
        "    double SMatrix[ST*ST];\n",
        "    double* SPter = SMatrix;\n",
        "    \n",
        "    int k = 0;\n",
        "    \n",
        "   do {\n",
        "        \n",
        "        if ( (k % 2) != 0 ) {\n",
        "            \n",
        "            sum_xPter  = sum_x;\n",
        "            sum_x2Pter = sum_x2;\n",
        "            \n",
        "            *SPter = (SA * (*sum_xxPter) - (*sum_xPter) * *(sum_xPter+1)) / ( SA*(SA-1) );\n",
        "            *SPter ++;\n",
        "            \n",
        "            *sum_x2Pter ++;\n",
        "            *sum_xPter ++;\n",
        "        }\n",
        "        else {\n",
        "            *SPter = ( SA * (*sum_x2) - (*sum_x) * (*sum_x)) / ( SA*(SA-1) );\n",
        "            *SPter ++;\n",
        "            \n",
        "        }\n",
        "        \n",
        "        k ++;\n",
        "    } while(k < (sizeof(SMatrix)/sizeof(double)) );\n",
        "    \n",
        "\n",
        "    //printf( \"La matriz de Covarianza es: \\n\");\n",
        "    MatrixShow(ST,ST, SMatrix);\n",
        "\n",
        "    //printf(\"%lf\", SMatrix[2]);\n",
        "    \n",
        "    return 0;\n",
        "\n",
        "}"
      ],
      "metadata": {
        "colab": {
          "base_uri": "https://localhost:8080/"
        },
        "id": "qyjEsRXvbCgc",
        "outputId": "9ead5f1e-6323-4057-dbc5-8a157a8c0e06"
      },
      "execution_count": 27,
      "outputs": [
        {
          "output_type": "stream",
          "name": "stdout",
          "text": [
            "Overwriting nuevo.c\n"
          ]
        }
      ]
    },
    {
      "cell_type": "code",
      "source": [
        "%%shell\n",
        "gcc nuevo.c -o nuevo\n",
        "./nuevo"
      ],
      "metadata": {
        "colab": {
          "base_uri": "https://localhost:8080/"
        },
        "id": "r1kbWP2peBJi",
        "outputId": "06a27d08-b92d-411d-9427-4bc92c7731ab"
      },
      "execution_count": 28,
      "outputs": [
        {
          "output_type": "stream",
          "name": "stdout",
          "text": [
            "0.798571 \t0.679286 \t\n",
            "0.798571 \t0.679286 \t\n"
          ]
        },
        {
          "output_type": "execute_result",
          "data": {
            "text/plain": [
              ""
            ]
          },
          "metadata": {},
          "execution_count": 28
        }
      ]
    },
    {
      "cell_type": "code",
      "source": [
        ""
      ],
      "metadata": {
        "id": "lsVfQV7seQMN"
      },
      "execution_count": null,
      "outputs": []
    }
  ]
}