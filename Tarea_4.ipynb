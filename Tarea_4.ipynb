{
  "nbformat": 4,
  "nbformat_minor": 0,
  "metadata": {
    "colab": {
      "name": "Tarea_4.ipynb",
      "provenance": [],
      "authorship_tag": "ABX9TyPcOWOBVGUOzH5rxyyosanx",
      "include_colab_link": true
    },
    "kernelspec": {
      "name": "python3",
      "display_name": "Python 3"
    },
    "language_info": {
      "name": "python"
    }
  },
  "cells": [
    {
      "cell_type": "markdown",
      "metadata": {
        "id": "view-in-github",
        "colab_type": "text"
      },
      "source": [
        "<a href=\"https://colab.research.google.com/github/GuillermoSego/TSF/blob/main/Tarea_4.ipynb\" target=\"_parent\"><img src=\"https://colab.research.google.com/assets/colab-badge.svg\" alt=\"Open In Colab\"/></a>"
      ]
    },
    {
      "cell_type": "markdown",
      "source": [
        "# Matriz de Covarianza\n",
        "\n",
        "**Tarea** El objetivo de la tarea es calcular la matriz de covarianza con base en datos del libro, utilizando apuntadores. \n",
        "\n",
        "Calculamos la covarianza entre dos conjuntos de datos utilizando la ecuación\n",
        "\n",
        "$$\n",
        "S_{xy} = \\frac{n \\sum x_i y_i - \\sum x_i \\sum y_i}{n(n-1)}\n",
        "$$\n",
        "\n",
        "En cuanto a la varianza, esta se calcula a partir de un solo conjunto de datos y se utiliza:\n",
        "\n",
        "$$\n",
        "s^2 = \\frac{n\\sum x_i^2 - (\\sum x_i)^2}{n(n-1)}\n",
        "$$\n",
        "\n",
        "Realizamos ahora el código para calcular la matriz de covarianza de 2 conjuntos de datos. Precisamente los que se encuentran en el primer ejemplo del libro de texto. (Cap. 1),"
      ],
      "metadata": {
        "id": "nS4aj3BWdKvq"
      }
    },
    {
      "cell_type": "code",
      "source": [
        "%%writefile Rutinas.c\n",
        "\n",
        "#include <stdio.h>\n",
        "\n",
        "#define ST 2\n",
        "#define SA 15\n",
        "\n",
        "// Rutina hecha para mostrar una matriz\n",
        "void MatrixShow(int m, int n, double v[]){\n",
        "    \n",
        "    int i, j, k=0;\n",
        "    \n",
        "    for(i=0 ; i<m ; i++){\n",
        "        \n",
        "        for (j=0 ; j<n ; j ++){\n",
        "            \n",
        "            printf(\"%lf \\t\", v[k]);\n",
        "            k ++;\n",
        "        }\n",
        "        \n",
        "        printf(\"\\n\");\n",
        "    }\n",
        "}\n",
        "\n",
        "/*\n",
        "Se realizan todas las sumas necesarias para calcular la covarianza, las sumas \n",
        "se guardan en apuntadores. Se recorre la matriz de los datos con un apuntador, \n",
        "sabemos que llegamos al final del primer conjunto de datos por el número de \n",
        "filas, que son las muestras, valor el cual esta guardado en SA\n",
        "*/\n",
        "\n",
        "void SumMatrix(double* sum_xPter, double* sum_xxPter, double* sum_x2Pter, \n",
        "double* DatPter, int M, int N)\n",
        "{\n",
        "    int i = 0, j = 0;\n",
        "    do{\n",
        "        do{\n",
        "            \n",
        "            if (i<N-1) {\n",
        "                *sum_xxPter += *(DatPter) * *(DatPter + SA);\n",
        "            }\n",
        "            \n",
        "            *sum_x2Pter += *(DatPter) * *(DatPter);\n",
        "            *sum_xPter  += *(DatPter ++);\n",
        "            \n",
        "            j ++;\n",
        "            \n",
        "        } while(j<M);\n",
        "        \n",
        "        *sum_xPter ++;\n",
        "        *sum_x2Pter ++;\n",
        "        j = 0;\n",
        "        i ++;\n",
        "    } while(i<N);\n",
        "    \n",
        "}\n",
        "\n",
        "/*\n",
        "Se construye la matriz de covarianza con todas las sumas que se hicieron. El \n",
        "proceso es recorrer la matriz con un apuntador, e ir haciendo las operaciones \n",
        "que corresponden.\n",
        "*/\n",
        "\n",
        "void CovMatrix(double* sum_xPter, double* sum_xxPter, double* sum_x2Pter, \n",
        "double* SPter, int M, int N){\n",
        "    \n",
        "    int i = 0, j = 0;\n",
        "    \n",
        "    do {\n",
        "        \n",
        "        do {\n",
        "            \n",
        "            if (i == j){\n",
        "                \n",
        "                *SPter = ( M * (*sum_x2Pter) - (*sum_xPter) * (*sum_xPter)) / ( M*(M-1) );\n",
        "                *SPter ++ ;\n",
        "                \n",
        "            } else {\n",
        "                \n",
        "                *SPter = (M * (*sum_xxPter) - (*sum_xPter) * *(sum_xPter)) / ( M*(M-1) );\n",
        "                *SPter ++ ;\n",
        "                \n",
        "            }\n",
        "            \n",
        "            j ++;\n",
        "            \n",
        "        } while(j < N);\n",
        "        \n",
        "        *sum_xPter ++;\n",
        "        *sum_x2Pter ++;\n",
        "        \n",
        "        j = 0;\n",
        "        i ++ ;\n",
        "        \n",
        "    } while(i < N); \n",
        "  \n",
        "}\n",
        "\n",
        "int main()\n",
        "{\n",
        "    \n",
        "    // Introducimos los datos en una sola matriz\n",
        "\n",
        "    double DatM[] = {\n",
        "        10.0, 10.4, 9.7, 9.7, 11.7, 11.0, 8.7, 9.5, 10.1, 9.6, 10.5, 9.2, 11.3, 10.1, 8.5,\n",
        "        10.7, 9.8, 10.0, 10.1, 11.5, 10.8, 8.8, 9.3, 9.4, 9.6, 10.4, 9.0, 11.6, 9.8, 9.2\n",
        "    };\n",
        "\n",
        "    // Declaraos un apuntador que apunte a la matriz de datos\n",
        "    double* DatPter = DatM;\n",
        " \n",
        "    // Declaramos los arreglos para guardar las sumas\n",
        "    double sum_x[ST], sum_x2[ST], sum_xx[(ST*ST - ST)/2];\n",
        " \n",
        "    // Apuntamos a los arreglos de las sumas\n",
        "    double* sum_xPter  = sum_x;\n",
        "    double* sum_x2Pter = sum_x2;\n",
        "    double* sum_xxPter = sum_xx;\n",
        "    \n",
        "    // Declaramos un arreglo para la matriz de covarianza y le apuntamos\n",
        "    double SMatrix[ST*ST];\n",
        "    double* SPter = SMatrix;\n",
        "    \n",
        "    // Hacemos todas las sumas\n",
        "    SumMatrix(sum_xPter, sum_xxPter, sum_x2Pter, DatPter, SA, ST);\n",
        "    \n",
        "    // Nos cercioramos de que estemos apuntando en la dirección correcta\n",
        "    sum_xPter  = sum_x;\n",
        "    sum_x2Pter = sum_x2;\n",
        "    \n",
        "    // Construimos la matriz de covarianza\n",
        "    CovMatrix(sum_xPter, sum_xxPter, sum_x2Pter, SPter, SA, ST);\n",
        " \n",
        "    // Imprimimos la matriz\n",
        "    printf( \"La matriz de Covarianza es: \\n\");\n",
        "    MatrixShow(ST,ST, SMatrix);\n",
        "\n",
        "    \n",
        "    return 0;\n",
        "\n",
        "}"
      ],
      "metadata": {
        "id": "lsVfQV7seQMN",
        "colab": {
          "base_uri": "https://localhost:8080/"
        },
        "outputId": "a6d936ca-e4a5-4704-c21b-d376d0a053be"
      },
      "execution_count": 8,
      "outputs": [
        {
          "output_type": "stream",
          "name": "stdout",
          "text": [
            "Overwriting Rutinas.c\n"
          ]
        }
      ]
    },
    {
      "cell_type": "code",
      "source": [
        "%%shell\n",
        "\n",
        "gcc Rutinas.c -o Rutinas\n",
        "./Rutinas"
      ],
      "metadata": {
        "colab": {
          "base_uri": "https://localhost:8080/"
        },
        "id": "ow-yf7oPtW2o",
        "outputId": "a2eb7992-f141-469f-c3a1-bbab2496479f"
      },
      "execution_count": 9,
      "outputs": [
        {
          "output_type": "stream",
          "name": "stdout",
          "text": [
            "La matriz de Covarianza es: \n",
            "0.798571 \t0.679286 \t\n",
            "0.679286 \t0.734286 \t\n"
          ]
        },
        {
          "output_type": "execute_result",
          "data": {
            "text/plain": [
              ""
            ]
          },
          "metadata": {},
          "execution_count": 9
        }
      ]
    },
    {
      "cell_type": "markdown",
      "source": [
        "Tenemos el mismo programa, asi se construyó originalmente, sin rutinas."
      ],
      "metadata": {
        "id": "ZWYlsKrlvP79"
      }
    },
    {
      "cell_type": "code",
      "source": [
        "%%writefile nuevo.c\n",
        "\n",
        "#include <stdio.h>\n",
        "\n",
        "#define ST 2\n",
        "#define SA 15\n",
        "\n",
        "void MatrixShow(int m, int n, double v[]){\n",
        "    \n",
        "    int i, j, k=0;\n",
        "    \n",
        "    for(i=0 ; i<m ; i++){\n",
        "        \n",
        "        for (j=0 ; j<n ; j ++){\n",
        "            \n",
        "            printf(\"%lf \\t\", v[k]);\n",
        "            k ++;\n",
        "        }\n",
        "        \n",
        "        printf(\"\\n\");\n",
        "    }\n",
        "}\n",
        "\n",
        "\n",
        "\n",
        "int main()\n",
        "{\n",
        "    \n",
        "    // Introducimos los datos en una sola matriz\n",
        "\n",
        "    double DatM[] = {\n",
        "        10.0, 10.4, 9.7, 9.7, 11.7, 11.0, 8.7, 9.5, 10.1, 9.6, 10.5, 9.2, 11.3, 10.1, 8.5,\n",
        "        10.7, 9.8, 10.0, 10.1, 11.5, 10.8, 8.8, 9.3, 9.4, 9.6, 10.4, 9.0, 11.6, 9.8, 9.2\n",
        "    };\n",
        " \n",
        "    double* DatPter = DatM;\n",
        " \n",
        "    double sum_x[ST], sum_x2[ST], sum_xx[(ST*ST - ST)/2];\n",
        " \n",
        "    double* sum_xPter  = sum_x;\n",
        "    double* sum_x2Pter = sum_x2;\n",
        "    double* sum_xxPter = sum_xx;\n",
        "    \n",
        "    int i = 0, j = 0;\n",
        "    \n",
        "    \n",
        "    do{\n",
        "        do{\n",
        "            \n",
        "            if (i<ST-1) {\n",
        "                *sum_xxPter += *(DatPter) * *(DatPter + SA);\n",
        "                //printf(\"%lf \\n\", *sum_xxPter);\n",
        "            }\n",
        "            \n",
        "            *sum_x2Pter += *(DatPter) * *(DatPter);\n",
        "            *sum_xPter  += *(DatPter ++);\n",
        "            \n",
        "            j ++;\n",
        "            \n",
        "        } while(j<SA);\n",
        "        \n",
        "        *sum_xPter ++;\n",
        "        *sum_x2Pter ++;\n",
        "        j = 0;\n",
        "        i ++;\n",
        "    } while(i<ST);\n",
        "\n",
        "    \n",
        "    double SMatrix[ST*ST];\n",
        "    double* SPter = SMatrix;\n",
        "    \n",
        "    \n",
        "    i = 0;\n",
        "    j = 0;\n",
        "    \n",
        "    sum_xPter  = sum_x;\n",
        "    sum_x2Pter = sum_x2;\n",
        "    \n",
        "    do {\n",
        "        \n",
        "        do {\n",
        "            \n",
        "            if (i == j){\n",
        "                \n",
        "                *SPter = ( SA * (*sum_x2Pter) - (*sum_xPter) * (*sum_xPter)) / ( SA*(SA-1) );\n",
        "                *SPter ++ ;\n",
        "                \n",
        "                \n",
        "            } else {\n",
        "                \n",
        "                *SPter = (SA * (*sum_xxPter) - (*sum_xPter) * *(sum_xPter)) / ( SA*(SA-1) );\n",
        "                *SPter ++ ;\n",
        "                \n",
        "            }\n",
        "            \n",
        "            j ++;\n",
        "            \n",
        "        } while(j < ST);\n",
        "        \n",
        "        *sum_xPter ++;\n",
        "        *sum_x2Pter ++;\n",
        "        \n",
        "        j = 0;\n",
        "        i ++ ;\n",
        "        \n",
        "    } while(i < ST); \n",
        "    \n",
        "\n",
        "    printf( \"La matriz de Covarianza es: \\n\");\n",
        "    MatrixShow(ST,ST, SMatrix);\n",
        "\n",
        "    \n",
        "    return 0;\n",
        "\n",
        "}"
      ],
      "metadata": {
        "colab": {
          "base_uri": "https://localhost:8080/"
        },
        "id": "qyjEsRXvbCgc",
        "outputId": "99dad9c8-9d17-48a8-c0bc-e656b8c114b3"
      },
      "execution_count": 10,
      "outputs": [
        {
          "output_type": "stream",
          "name": "stdout",
          "text": [
            "Overwriting nuevo.c\n"
          ]
        }
      ]
    },
    {
      "cell_type": "code",
      "source": [
        "%%shell\n",
        "gcc nuevo.c -o nuevo\n",
        "./nuevo"
      ],
      "metadata": {
        "colab": {
          "base_uri": "https://localhost:8080/"
        },
        "id": "r1kbWP2peBJi",
        "outputId": "7f826abf-f88a-45a7-b220-edd020a7b02b"
      },
      "execution_count": 11,
      "outputs": [
        {
          "output_type": "stream",
          "name": "stdout",
          "text": [
            "La matriz de Covarianza es: \n",
            "0.798571 \t0.679286 \t\n",
            "0.679286 \t0.734286 \t\n"
          ]
        },
        {
          "output_type": "execute_result",
          "data": {
            "text/plain": [
              ""
            ]
          },
          "metadata": {},
          "execution_count": 11
        }
      ]
    }
  ]
}