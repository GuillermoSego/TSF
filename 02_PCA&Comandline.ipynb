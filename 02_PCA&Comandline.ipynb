{
  "nbformat": 4,
  "nbformat_minor": 0,
  "metadata": {
    "colab": {
      "name": "02_PCA&Comandline.ipynb",
      "provenance": [],
      "authorship_tag": "ABX9TyOxnxnF2ys2Xjn2G4hR2ucU",
      "include_colab_link": true
    },
    "kernelspec": {
      "name": "python3",
      "display_name": "Python 3"
    },
    "language_info": {
      "name": "python"
    }
  },
  "cells": [
    {
      "cell_type": "markdown",
      "metadata": {
        "id": "view-in-github",
        "colab_type": "text"
      },
      "source": [
        "<a href=\"https://colab.research.google.com/github/GuillermoSego/TSF/blob/main/02_PCA%26Comandline.ipynb\" target=\"_parent\"><img src=\"https://colab.research.google.com/assets/colab-badge.svg\" alt=\"Open In Colab\"/></a>"
      ]
    },
    {
      "cell_type": "markdown",
      "source": [
        "# Introducción a Principal Component Analysis\n",
        "\n",
        "Uno de los prinicpios básicos de la optimización es encontrar un algoritmo que minimice las operaciones en la computadora.\n",
        "\n",
        "Es importante programar bien desde el prinicipio, trabajar de una manera optimizada.\n",
        "\n",
        "El campo del análisis multivariable consiste en aquellas técnicas estadísticas que consideran dos o mas variables aleatorias relacionadas entre sí, como una sola entidad tratando de generar un resultado general tomando la relación entre las variables en cuenta. \n",
        "\n",
        "El análisis multivariable trabaja el problema como un todo, tratamos todos \n",
        "datos como un conjunto de números. Si tenemos por ejemplo una gran cantidad\n",
        "de datos de dos poblaciones diferentes, una manera de abordarlo es hacer \n",
        "analsis independientes, pero esto no es optimo. El analisis multivariable \n",
        "aborda el conjunto de datos no como poblaciones diferentes sino como todo. \n",
        "\n",
        "Existen muchas técnicas en el campo del análisis multivariado y a pesar de que estas son empleadas en la inferencia estadística, la mayor de las aplicaciones son en el análisis de datos, en particular las técnicas que describen la estructura multivariable de los datos. **Principal Component Analysis** (PCA) es una técnica que mientras se utiliza como técnica descriptiva, es posible utilizarla en muchos procedimientos inferenciales también. \n",
        "\n",
        "## Un ejemplo hipotético\n",
        "\n",
        "Suponga que se tiene un proceso en el cual se realiza una prueba de la concentración de un componente químico en una solución. Se probaron dos métodos distintos. Asumimos que los dos métodos son intercambiables. Se obtuvieron 15 mediciones de cada método. \n",
        "\n",
        "La pregunta es ¿Qué es lo que podemos hacer con estos datos?. Es posible hacer muchos test estadísticos, por ejemplo un t-test, o un análisis de varianza ANOVA. Estos métodos nos llevan a tratar ambos métodos por separado lo cual además de ser no eficiente, induce variabilidad en los resultados. Para esto podemos hacer un análisis multivariable. \n",
        "\n",
        "La manera de introducir un análisis multivariable en este caso, podría ser utilizando una regresión. Sin embargo, si realizamos una regresión sobre el primer método para posterior predecir el segundo, y después realizamos lo mismo pero ahora con el método dos para predecir el primero, tendríamos dos ecuaciones de regresión, lo cual induce la variabilidad que se quería evitar desde el principio. Se requiere una sola línea que sea capaz de predecir la dirección de ambos métodos. Esta línea es llamada **línea ortogonal** y es una regresión ortogonal en la que a diferencia de una de mínimos cuadrados, esta no minimiza la distancia cuadrada entre los puntos, sino que minimiza la distancia entre los puntos sin ser necesariamente un ángulo recto. Esta línea puede ser obtenida utilizando PCA. \n",
        "\n",
        "## El método Principal Component Analysis\n",
        "\n",
        "Para ilustrar el método con el ejemplo anterior, necesitamos obtener las medias, las varianzas y la covarianza de ambos grupos de datos.\n",
        "\n",
        "La media es\n",
        "$$\n",
        "\\overline{\\mathbf{x}}=\\left[\\begin{array}{c}\n",
        "\\bar{x}_{1} \\\\\n",
        "\\bar{x}_{2}\n",
        "\\end{array}\\right]=\\left[\\begin{array}{l}\n",
        "10.00 \\\\\n",
        "10.00\n",
        "\\end{array}\\right]\n",
        "$$\n",
        "\n",
        "\n",
        "La matriz de covarianza es la siguiente\n",
        "$$\n",
        "\\mathbf{S}=\\left[\\begin{array}{cc}\n",
        "s_{1}^{2} & s_{12} \\\\\n",
        "s_{12} & s_{2}^{2}\n",
        "\\end{array}\\right]=\\left[\\begin{array}{ll}\n",
        ".7986 & .6793 \\\\\n",
        ".6793 & .7343\n",
        "\\end{array}\\right]\n",
        "$$\n",
        "\n",
        "donde $s_i^2$ es la varianza, y la covarianza es la siguiente\n",
        "$$\n",
        "s_{i j}=\\frac{n \\sum x_{i k} x_{j k}-\\sum x_{i k} \\sum x_{j k}}{[n(n-1)]}\n",
        "$$\n",
        "\n",
        "El método de PCA es basado en un resultado del álgebra lineal. Una matriz cuadrada, simétrica como la de la covariaza, puede ser reducida a una matriz diagonal $\\mathbf{L}$ multiplicando la matriz $\\mathbf{S}$ por una matriz $\\mathbf{U}$ y su inversa por ambos lados\n",
        "\n",
        "$$\n",
        "\\mathbf{U'SU} = \\mathbf{L}\n",
        "$$\n",
        "\n",
        "Los elementos de la diagonal prinicipal de la matriz $\\mathbf{L}$ son llamados **raices características** o **eigenvalores** de $\\mathbf{S}$. Las columnas de la matriz $\\mathbf{U}$ son llamados **eigenvectores** de $\\mathbf{S}$.\n",
        "\n",
        "Los eigenvalores son obtenidos gracias a la siguiente ecuación llamada **ecuación característica**\n",
        "\n",
        "$$\n",
        "|\\mathbf{S}-l \\mathbf{I}|=0\n",
        "$$\n",
        "\n",
        "donde $\\mathbf{I}$ es la matriz identidad. \n",
        "\n",
        "Esta ecuación produce una ecuación polinómica de segundo grado, cuyas raices son los eigenvalores. Los eigenvectores son obtenidos como solución a las ecuaciones \n",
        "$$\n",
        "[\\mathbf{S}-l \\mathbf{I}] \\mathbf{t}_{i}=0\n",
        "$$\n",
        "\n",
        "y \n",
        "\n",
        "$$\n",
        "\\mathbf{u}_{i}=\\frac{\\mathbf{t}_{i}}{\\sqrt{t_{i}^{\\prime} t_{i}}}\n",
        "$$\n",
        "\n",
        "en donde obtenemos los eigenvectores normalizados. Y asi la matriz $\\mathbf{U}$ es ortonormal. \n",
        "\n",
        "El resultado de la matriz de covarianza da los siguientes eigenvectores\n",
        "\n",
        "$$\n",
        "\\mathbf{U}=\\left[\\begin{array}{l|l}\n",
        "\\mathbf{u}_{1} & \\mathbf{u}_{2}\n",
        "\\end{array}\\right]=\\left[\\begin{array}{l:r}\n",
        ".7236 & -.6902 \\\\\n",
        ".6902 & .7236\n",
        "\\end{array}\\right]\n",
        "$$\n",
        "\n",
        "Geometricamente, el procedimiento describe una rotación de ejes. El eje coordenado original $x_1$ y $x_2$ que son las medias. Y los elementos de los eigenvectores son los cosenos directores de los nuevos ejes relacionados con los viejos.  El nuevo eje relacionado con $\\mathbf{u}_1$ es la línea ortogonal que estamos buscando. "
      ],
      "metadata": {
        "id": "431G8mJqw-Gi"
      }
    },
    {
      "cell_type": "markdown",
      "source": [
        ""
      ],
      "metadata": {
        "id": "Gletyctj4xdo"
      }
    },
    {
      "cell_type": "markdown",
      "source": [
        "## La covarianza\n",
        "\n",
        "Calculamos la covarianza utilizando la siguiente ecuación\n",
        "$$\n",
        "S_{xy} = \\frac{1}{n-1} \\sum_{i=1}^{n} (x_i-x)(y_i-y)\n",
        "$$\n",
        "\n",
        "Implementaremos una rutina para calcular la covarianza"
      ],
      "metadata": {
        "id": "FuYx3MXx4xf9"
      }
    },
    {
      "cell_type": "code",
      "source": [
        "%%writefile covarianza.c\n",
        "\n",
        "double Covarianza(double x[], double y[], unsigned int elements){\n",
        "    unsigned int n = elements;\n",
        "    double sum_xy = 0;\n",
        "    double sum_x  = 0;\n",
        "    double sum_y =  0;\n",
        "\n",
        "    do{\n",
        "        sum_xy += (*x) * (*y);\n",
        "        sum_x  += *( x++ );\n",
        "        sum_y  += *( y++ );\n",
        "    } while( -- elements);\n",
        "\n",
        "    return ( n*sum_xy - sum_x * sum_y )/( n * (n-1) );\n",
        "}\n",
        "\n",
        "#include <stdio.h>\n",
        "\n",
        "int main(){\n",
        "    \n",
        "    printf(\"Hola mundo, esta es la rutina de la covarianza\");\n",
        "    return 0;\n",
        "}"
      ],
      "metadata": {
        "colab": {
          "base_uri": "https://localhost:8080/"
        },
        "id": "WIpU08_tWXB-",
        "outputId": "1f86ac0e-e61e-42e3-af88-598efc371b83"
      },
      "execution_count": null,
      "outputs": [
        {
          "output_type": "stream",
          "name": "stdout",
          "text": [
            "Overwriting covarianza.c\n"
          ]
        }
      ]
    },
    {
      "cell_type": "code",
      "source": [
        "%%shell\n",
        "gcc covarianza.c -o cov\n",
        "./cov"
      ],
      "metadata": {
        "colab": {
          "base_uri": "https://localhost:8080/"
        },
        "id": "5nJXtkFEXgI-",
        "outputId": "ed089a5b-55df-407d-e231-4e6012668f8c"
      },
      "execution_count": null,
      "outputs": [
        {
          "output_type": "stream",
          "name": "stdout",
          "text": [
            "Hola mundo, esta es la rutina de la covarianza"
          ]
        },
        {
          "output_type": "execute_result",
          "data": {
            "text/plain": [
              ""
            ]
          },
          "metadata": {},
          "execution_count": 22
        }
      ]
    },
    {
      "cell_type": "markdown",
      "source": [
        "## Introducción de argumentos desde la línea de comandos en C"
      ],
      "metadata": {
        "id": "yG1UQ5T-U97k"
      }
    },
    {
      "cell_type": "code",
      "execution_count": null,
      "metadata": {
        "id": "a9jVfSZyBZGq",
        "colab": {
          "base_uri": "https://localhost:8080/"
        },
        "outputId": "4ee47d14-349c-4095-ce71-f68072a3e225"
      },
      "outputs": [
        {
          "output_type": "stream",
          "name": "stdout",
          "text": [
            "Overwriting hola.c\n"
          ]
        }
      ],
      "source": [
        "%%writefile hola.c\n",
        "\n",
        "#include <stdio.h>\n",
        "\n",
        "//Es la función implementada en la clase 1 para la regla de Horner\n",
        "double HornerRule( double x, double *coeff , int nCoeff){\n",
        "    \n",
        "    double accum = coeff[0];\n",
        "    int index = 1;\n",
        "\n",
        "    do{\n",
        "        accum = accum*x + coeff[index];\n",
        "        index ++;\n",
        "    } while(index < nCoeff); // Es una macro me sirve \n",
        "    //para saber el tamaño de un arreglo que ya esta declarado\n",
        "    \n",
        "    return accum;\n",
        "    \n",
        "}\n",
        "\n",
        "/*\n",
        "Para la introducción de argumentos desde la línea de comandos necesitamos \n",
        "escribir los siguientes argumentos en el paréntesis del main.\n",
        "*/\n",
        "int main(int nArg, char *arg[])\n",
        "{\n",
        "    double coeff[10];\n",
        "    double    x = 3;\n",
        "    int       i = 0;\n",
        " \n",
        "    do {\n",
        "        \n",
        "        sscanf(arg[i+1], \"%lf\", coeff+i );\n",
        "    } while( ++i < (nArg - 1));\n",
        "\n",
        "    printf(\n",
        "        \"%8.3lf, %8.3lf\\n\",\n",
        "        coeff[0],\n",
        "        HornerRule(coeff[0], coeff + 1, nArg-2) );\n",
        "\n",
        "    return 0;\n",
        "}"
      ]
    },
    {
      "cell_type": "markdown",
      "source": [
        "Cuando queremos correr un programa con argumentos desde la línea de comandos, los carateres se escriben junto con el programa que se esta corriendo. "
      ],
      "metadata": {
        "id": "ylNMzYsPWGeE"
      }
    },
    {
      "cell_type": "code",
      "source": [
        "%%shell\n",
        "\n",
        "gcc hola.c -o output\n",
        "./output 2 2 -5 10"
      ],
      "metadata": {
        "colab": {
          "base_uri": "https://localhost:8080/"
        },
        "id": "ElTKsla0vS5P",
        "outputId": "7eb6251a-47d5-4e39-bd63-4aae540754b1"
      },
      "execution_count": null,
      "outputs": [
        {
          "output_type": "stream",
          "name": "stdout",
          "text": [
            "   2.000,    8.000\n"
          ]
        },
        {
          "output_type": "execute_result",
          "data": {
            "text/plain": [
              ""
            ]
          },
          "metadata": {},
          "execution_count": 17
        }
      ]
    }
  ]
}