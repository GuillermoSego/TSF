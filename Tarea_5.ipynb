{
  "nbformat": 4,
  "nbformat_minor": 0,
  "metadata": {
    "colab": {
      "name": "Tarea_5.ipynb",
      "provenance": [],
      "authorship_tag": "ABX9TyMg3Bgmk5bN/iDh6yQQIDMY",
      "include_colab_link": true
    },
    "kernelspec": {
      "name": "python3",
      "display_name": "Python 3"
    },
    "language_info": {
      "name": "python"
    }
  },
  "cells": [
    {
      "cell_type": "markdown",
      "metadata": {
        "id": "view-in-github",
        "colab_type": "text"
      },
      "source": [
        "<a href=\"https://colab.research.google.com/github/GuillermoSego/TSF/blob/main/Tarea_5.ipynb\" target=\"_parent\"><img src=\"https://colab.research.google.com/assets/colab-badge.svg\" alt=\"Open In Colab\"/></a>"
      ]
    },
    {
      "cell_type": "code",
      "execution_count": 7,
      "metadata": {
        "colab": {
          "base_uri": "https://localhost:8080/"
        },
        "id": "gyk1vhw_gPTB",
        "outputId": "c142ff86-8ac0-4f60-a12b-f6be7e1d9425"
      },
      "outputs": [
        {
          "output_type": "stream",
          "name": "stdout",
          "text": [
            "Overwriting new.c\n"
          ]
        }
      ],
      "source": [
        "%%writefile new.c\n",
        "\n",
        "#include <stdio.h>\n",
        "\n",
        "#define ST 4\n",
        "#define SA 15\n",
        "\n",
        "/*\n",
        "double Varianzas(){\n",
        "    \n",
        "    \n",
        "    \n",
        "}\n",
        "*/\n",
        "\n",
        "void MatrixShow(int m, int n, double v[]){\n",
        "    \n",
        "    int i, j, k=0;\n",
        "    \n",
        "    for(i=0 ; i<m ; i++){\n",
        "        \n",
        "        for (j=0 ; j<n ; j ++){\n",
        "            \n",
        "            printf(\"%lf \\t\", v[k]);\n",
        "            k ++;\n",
        "        }\n",
        "        \n",
        "        printf(\"\\n\");\n",
        "    }\n",
        "}\n",
        "\n",
        "\n",
        "double DotProd(double x[], double y[], int n)\n",
        "{\n",
        "    double sum = *(x++) * *(y ++ );\n",
        "    --n ;\n",
        "    \n",
        "    do {\n",
        "        sum += *( x++ ) * *(y ++ );\n",
        "    } while (--n);\n",
        "    \n",
        "    return sum;\n",
        "}\n",
        "\n",
        "int main()\n",
        "{\n",
        "    \n",
        "    \n",
        "    double DatM[] = {\n",
        "        10.0, 10.4, 9.7, 9.7, 11.7, 11.0, 8.7, 9.5, 10.1, 9.6, 10.5, 9.2, 11.3, 10.1, 8.5,\n",
        "        10.7, 9.8, 10.0, 10.1, 11.5, 10.8, 8.8, 9.3, 9.4, 9.6, 10.4, 9.0, 11.6, 9.8, 9.2,\n",
        "        10.7, 9.8, 10.0, 10.1, 11.5, 10.8, 8.8, 9.3, 9.4, 9.6, 10.4, 9.0, 11.6, 9.8, 9.2,\n",
        "        10.0, 10.4, 9.7, 9.7, 11.7, 11.0, 8.7, 9.5, 10.1, 9.6, 10.5, 9.2, 11.3, 10.1, 8.5\n",
        "    };\n",
        "\n",
        "\n",
        "    double CovM[ST*ST];\n",
        "    double* CovPtr = CovM;\n",
        "    \n",
        "    double* DatPtr[] = {DatM, DatM + SA, DatM + 2*SA, DatM + 3*SA};\n",
        "\n",
        "    int i = 0, k = 0;\n",
        "    \n",
        "    double sum_x = 0, sum_x2 = 0, sum_xx = 0;\n",
        "    \n",
        "    double sum_xM[ST];\n",
        "    double* sum_xPtr = sum_xM;\n",
        "    \n",
        "    //printf(\"%lf\", *(DatPtr[1]));\n",
        "\n",
        "    // Varianza\n",
        "    do {  \n",
        "    \n",
        "        sum_x = 0, sum_x2 = 0, sum_xx = 0;    \n",
        "    \n",
        "            do {\n",
        "            \n",
        "                sum_x2 += *(DatPtr[k]) * *(DatPtr[k]);\n",
        "                \n",
        "                sum_x += *(DatPtr[k] ++);\n",
        "                \n",
        "                i ++;\n",
        "            \n",
        "            } while(i<SA);\n",
        "    \n",
        "        *sum_xPtr = sum_x;\n",
        "        sum_xPtr ++;\n",
        "        \n",
        "        *CovPtr = (SA * (sum_x2) - (sum_x) * (sum_x)) / ( SA*(SA-1) );\n",
        "        \n",
        "        CovPtr  = CovPtr + (ST+1);\n",
        "        \n",
        "        k ++;\n",
        "        i = 0;\n",
        "    \n",
        "    } while(k < ST);\n",
        "    \n",
        "    i = 0, k = 0;\n",
        "    \n",
        "    // Apuntamos \n",
        "    DatPtr[0] = DatPtr[0] - SA;\n",
        "    CovPtr = CovM;\n",
        "    \n",
        "    /*\n",
        "\n",
        "    // Productos puntos\n",
        "    do {\n",
        "        \n",
        "        do {\n",
        "            \n",
        "            \n",
        "            \n",
        "        } while( j < ST );\n",
        "        \n",
        "    } while( i < ST );\n",
        "\n",
        "    */\n",
        "\n",
        "\n",
        "    /*\n",
        "    //Covarianza\n",
        "    i = 0, k = 0;\n",
        "    \n",
        "    do {\n",
        "        \n",
        "        do {\n",
        "            \n",
        "            if (i != k){\n",
        "                \n",
        "                sum_xx += *(DatPtr[k]) * *(DatPtr[k+1])\n",
        "                \n",
        "            } \n",
        "            \n",
        "            k ++;\n",
        "            \n",
        "        } while(k < ST);\n",
        "        \n",
        "        *sum_xPter ++;\n",
        "        *sum_x2Pter ++;\n",
        "        \n",
        "        j = 0;\n",
        "        i ++ ;\n",
        "        \n",
        "    } while(i < ST); \n",
        "    */\n",
        "\n",
        "\n",
        "    MatrixShow(ST,ST, CovM);\n",
        "    \n",
        "   //printf(\"%lf\", *(CovM + 1));\n",
        "    \n",
        "    return 0;\n",
        "}"
      ]
    },
    {
      "cell_type": "code",
      "source": [
        "%%shell\n",
        "gcc new.c -o new\n",
        "./new"
      ],
      "metadata": {
        "colab": {
          "base_uri": "https://localhost:8080/"
        },
        "id": "nX1n7IkwgWCG",
        "outputId": "b2d0aba7-e06d-4b7a-a6e2-f77f0d98ce83"
      },
      "execution_count": 8,
      "outputs": [
        {
          "output_type": "stream",
          "name": "stdout",
          "text": [
            "0.798571 \t-nan \t19922490514623532999943249622153292733737173065516447814655653485539285700827478682098847574117869218350536203466774638489368216093183979957209635225600.000000 \t73435354161358976386596864.000000 \t\n",
            "3824000982566140548660701596555143670440158704650548879691152758498636329432334727803542590436702180050731738949746688.000000 \t0.734286 \t135245338453783834333969065765131508479460118082931700949566604086487409617523481815867354227315088066002188216861153189626392250254060061923177719242002389794816.000000 \t3914069372879710841971950950241891721118272932935746836077599774552059201465298357579113179526665986946721395311196563793211947405239267363110699321543380394896056876408547772989440.000000 \t\n",
            "0.000000 \t0.000000 \t0.734286 \t911315291056061747183055547913833792140688411089683649571560594569429896088958453970849154461977491262346246825701108870560102567190630167271223490811432878373697044348928.000000 \t\n",
            "0.000000 \t0.000000 \t19922490514623532999943249622153292733737173065516447814655653485539285700827478682098847574117869218350536203466774638489368216093183979957209635225600.000000 \t0.798571 \t\n"
          ]
        },
        {
          "output_type": "execute_result",
          "data": {
            "text/plain": [
              ""
            ]
          },
          "metadata": {},
          "execution_count": 8
        }
      ]
    },
    {
      "cell_type": "code",
      "source": [
        ""
      ],
      "metadata": {
        "id": "cKWL0-GxgZ5p"
      },
      "execution_count": null,
      "outputs": []
    }
  ]
}