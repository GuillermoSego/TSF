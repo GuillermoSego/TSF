{
  "nbformat": 4,
  "nbformat_minor": 0,
  "metadata": {
    "colab": {
      "name": "Direccionamiento Indirecto.ipynb",
      "provenance": [],
      "authorship_tag": "ABX9TyMhoZT+iDURFQsTRm9jdxto",
      "include_colab_link": true
    },
    "kernelspec": {
      "name": "python3",
      "display_name": "Python 3"
    },
    "language_info": {
      "name": "python"
    }
  },
  "cells": [
    {
      "cell_type": "markdown",
      "metadata": {
        "id": "view-in-github",
        "colab_type": "text"
      },
      "source": [
        "<a href=\"https://colab.research.google.com/github/GuillermoSego/TSF/blob/main/Direccionamiento_Indirecto.ipynb\" target=\"_parent\"><img src=\"https://colab.research.google.com/assets/colab-badge.svg\" alt=\"Open In Colab\"/></a>"
      ]
    },
    {
      "cell_type": "markdown",
      "source": [
        "# Direccionamiento indirecto\n",
        "\n",
        "Hacemos un apuntador de apuntadores. "
      ],
      "metadata": {
        "id": "gWjS5dKsPOpr"
      }
    },
    {
      "cell_type": "code",
      "source": [
        "%%writefile di.c\n",
        "\n",
        "#include <stdio.h>\n",
        "\n",
        "double DotProd(double x[], double y[], int n)\n",
        "{\n",
        "    double sum = *(x++) * (*y ++ );\n",
        "    --n ;\n",
        "    \n",
        "    do {\n",
        "        sum += *(x++) * (*y ++ );\n",
        "    } while (--n);\n",
        "    \n",
        "    return sum;\n",
        "}\n",
        "\n",
        "int main()\n",
        "{\n",
        "    \n",
        "    // Direccionamiento indirecto\n",
        "    \n",
        "    double vec1[] = {1,1,1,1,1};\n",
        "    double vec2[] = {2,2,2,2,2};\n",
        "    double vec3[] = {3,3,3,3,3};\n",
        "    \n",
        "    double Matrix[] = {1,1,1,1,1,2,2,2,2,2,3,3,3,3,3};\n",
        "    \n",
        "    // Hacemos el direccionamiento con apuntadores, es un apuntador de apuntadores\n",
        "    double* ptr[]  = {Matrix, Matrix + 5, Matrix + 10};\n",
        "    double* Pter[] = {vec1, vec2, vec3};\n",
        "    \n",
        "    printf(\"%lf \\n\", DotProd(ptr[0], ptr[0], 5) );\n",
        "\n",
        "    return 0;\n",
        "}"
      ],
      "metadata": {
        "colab": {
          "base_uri": "https://localhost:8080/"
        },
        "id": "VNpJrJSKYlLI",
        "outputId": "921fb012-2c2c-4802-f020-f1eeffb7e5a7"
      },
      "execution_count": 1,
      "outputs": [
        {
          "output_type": "stream",
          "name": "stdout",
          "text": [
            "Writing di.c\n"
          ]
        }
      ]
    },
    {
      "cell_type": "code",
      "source": [
        "%%shell \n",
        "gcc di.c -o di\n",
        "./di"
      ],
      "metadata": {
        "colab": {
          "base_uri": "https://localhost:8080/"
        },
        "id": "p35yPyWJYvpd",
        "outputId": "b109bf7d-e641-4ffa-c62a-1ed218175f77"
      },
      "execution_count": 2,
      "outputs": [
        {
          "output_type": "stream",
          "name": "stdout",
          "text": [
            "5.000000 \n"
          ]
        },
        {
          "output_type": "execute_result",
          "data": {
            "text/plain": [
              ""
            ]
          },
          "metadata": {},
          "execution_count": 2
        }
      ]
    },
    {
      "cell_type": "markdown",
      "source": [
        "# Pasos para construir una rutina \n",
        "\n",
        "[por Nikola Breznjak](https://www.nikola-breznjak.com/blog/books/programming/code-complete-2-steve-mcconnell-pseudocode-programming-process/)\n",
        "\n",
        "1. Diseñar la rutina.\n",
        "2. Codificar la rutina. \n",
        "3. Revisar el código.\n",
        "4. Limpiar los cabos sueltos.\n",
        "5. Repetir según sea necesario.\n",
        "\n",
        "\n",
        "\n",
        "## 1 Diseñar la rutina\n",
        "\n",
        "* Verificar los requisitos previos para asegurarse que el trabajo de la rutina esté bien definido y encaje perfectamente en el diseño general.\n",
        "\n",
        "* Definir el problema que resolverá la rutina.\n",
        "\n",
        "* Nombrar la rutina: los nombres adecuados de las funciones rutina son una **señal de un programa superior** y no son fáciles de encontrar.\n",
        "\n",
        "* Decidir cómo probar la rutina.\n",
        "\n",
        "* Investigue la funcionalidad disponible en las bibliotecas estándar: la forma más importante de mejorar tanto la calidad de su código como su productividad es **reutilizar código bien escrito**\n",
        "\n",
        "* Pensar en el manejo de errores: piense en todas las cosas que podrían salir mal en la rutina.\n",
        "\n",
        "* Pensar en la eficiencia: en la gran mayoría de los sistemas, la eficiencia no es crítica. Diseñe su rutina para que cumpla con sus objetivos de recursos y velocidad.\n",
        "\n",
        "* Investigar los algoritmos y los tipos de datos: si la funcionalidad no está disponible en las bibliotecas disponibles, aún podría describirse en un libro de algoritmos.\n",
        "\n",
        "* Escribir el pseudocódigo: es posible que no tenga mucho por escribir después de terminar los pasos anteriores. El propósito principal de los pasos anteriores es establecer una guía mental que sea útil cuando al escribir la rutina.\n",
        "\n",
        "* Pensar en los datos.\n",
        "\n",
        "* Verifique el pseudocódigo: una vez que haya escrito el pseudocódigo y diseñado los datos, tómese un minuto para revisar el pseudocódigo que ha escrito. Aléjate de él y piensa **cómo se lo explicarías a otra persona**.\n",
        "\n",
        "* Pruebe algunas ideas en pseudocódigo y quédese con la mejor (iterar).\n",
        "\n",
        "  \n",
        "\n",
        "## 2 Codifica la rutina.\n",
        "\n",
        "* Escribir el pseudocódigo.\n",
        "\n",
        "* Escribir la declaración de la rutina. Convierta el comentario del encabezado original en un comentario de código de lenguaje de programación sobre la declaración.\n",
        "\n",
        "* Convierta el pseudocódigo en comentarios de alto nivel.\n",
        "\n",
        "  \n",
        "\n",
        "  ```C\n",
        "  /* Describa lo que hace la ruitna */\n",
        "  int ReportErrorMessage( int errorToReport ) {\n",
        "    // Establece \"fail\" como valor inicial de \"status\"\n",
        "   \n",
        "    // Codigo de errror válido?, Desliega mensaje y señala exito\n",
        "  \n",
        "    // Si no es válido notificar al usuario que\n",
        "    // un error interno fue detectado\n",
        "  \n",
        "    // Regresa la informacion de estado\n",
        "  }\n",
        "  ```\n",
        "\n",
        "- Traducir cada comentario en código.\n",
        "\n",
        "```C\n",
        "/* Describa lo que hace la ruitna */\n",
        "int ReportErrorMessage( int errorToReport ) {\n",
        "  // Establece \"fail\" como valor inicial de \"status\"\n",
        "  int errorMessageStatus = STAUS_FAILURE;\n",
        " \n",
        "  // Codigo de errror válido?, Desliega mensaje y señala exito\n",
        "  if( IsValidCode( errorToReport ) ) {\n",
        "    DisplayMessage( errorToReport );\n",
        "    errorMessageStatus = STATUS_SUCCESS;\n",
        "  }\n",
        "  // Si no es válido notificar al usuario que\n",
        "  // un error interno fue detectado\n",
        "  else {\n",
        "    printf( \n",
        "      \"Internal Error: Invalid error code in\"\n",
        "      \" ReportErrorMessage()\" );\n",
        "  }\n",
        "  // Regresa la informacion de estado\n",
        "  return errorMessageStatus;\n",
        "}\n",
        "```\n",
        "\n",
        "\n",
        "\n",
        "## 3 Revisar el Código\n",
        "\n",
        "- Revise mentalmente el código para detectar algún error.\n",
        "\n",
        "  Una rutina que funciona no es suficiente. Si no sabe por qué funciona, estúdielo, discútalo y experimente con diseños alternativos hasta que lo entienda.\n",
        "\n",
        "  Compile la rutina después de revisarla. Puede parecer ineficiente esperar tanto tiempo para compilar. Sin embargo, se beneficiará en varias maneras si deja la compilación hasta el final del proceso. Después de la primera compilación, aumenta la presión: \"Lo haré bien con solo una compilación más\". El síndrome de \"Solo una compilación más\" conduce a cambios apresurados y propensos a errores que toman más tiempo a largo plazo. \n",
        "\n",
        "- Depure la rutina.\n",
        "\n",
        "- Pruebe el programa.\n",
        "\n",
        "\n",
        "\n",
        "## 4 Limpiar los cabos sueltos.\n",
        "\n",
        "+ Revisar la interfaz de la rutina. Asegúrese de que se tomen en cuenta todos los datos de entrada y salida y que se utilicen todos los parámetros.\n",
        "+ Comprobar la calidad general del diseño. Asegúrese que la rutina haga una cosa y la haga bien, que esté poco acoplada a otras rutinas y que integre código defensivo.\n",
        "+ Verificar las variables de la rutina. Busque nombres de variables inexactos, objetos no utilizados, variables no declaradas, etc.\n",
        "+ Verificar las declaraciones y la lógica de la rutina.\n",
        "+ Eliminar comentarios redundantes."
      ],
      "metadata": {
        "id": "NFie1pVPXt79"
      }
    },
    {
      "cell_type": "code",
      "source": [
        ""
      ],
      "metadata": {
        "id": "z0pUQk4bX2kP"
      },
      "execution_count": null,
      "outputs": []
    }
  ]
}