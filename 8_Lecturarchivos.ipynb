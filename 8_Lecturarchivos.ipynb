{
  "nbformat": 4,
  "nbformat_minor": 0,
  "metadata": {
    "colab": {
      "name": "8_Lecturarchivos.ipynb",
      "provenance": [],
      "authorship_tag": "ABX9TyOE8ZxCUWFlT6cgkZHhWsgc",
      "include_colab_link": true
    },
    "kernelspec": {
      "name": "python3",
      "display_name": "Python 3"
    },
    "language_info": {
      "name": "python"
    }
  },
  "cells": [
    {
      "cell_type": "markdown",
      "metadata": {
        "id": "view-in-github",
        "colab_type": "text"
      },
      "source": [
        "<a href=\"https://colab.research.google.com/github/GuillermoSego/TSF/blob/main/8_Lecturarchivos.ipynb\" target=\"_parent\"><img src=\"https://colab.research.google.com/assets/colab-badge.svg\" alt=\"Open In Colab\"/></a>"
      ]
    },
    {
      "cell_type": "markdown",
      "source": [
        "# Escalado de variables\n",
        "\n",
        "Hay tres diferentes formas de escalar las variables. \n",
        "1. No hacer nada\n",
        "2. Escalar los datos tal que cada variable tenga media cero. El vector final que caria es $x-\\bar{x}$\n",
        "3. Escalar los datos tal que cada variable tenga *unidades estándar*, ie. tenga media cero y desviación estándar uno. Cada variable esta expresada como $(x_i - \\bar{x}_i)/s_i$\n",
        "\n",
        "El efecto de escalar los datos es para la optimización del proceso ya que por ejemplo al tener una media cero, no tienes que calcular una suma cuando calculas la varianza. \n",
        "\n",
        "La opción 1 de no hacer nada no tiene aplicación real. \n",
        "\n",
        "Se escalan los datos ya que PCA es muy sensible al cambio de las varianzas. Por lo que si se tiene valores de las varianzas que son unitarios, es posible tener un análisis mas preciso. \n",
        "\n",
        "## Matrices de covarianza que tienen el rango completo\n",
        "\n",
        "El **rango** de una matriz es el número de columnas o filas respectivamente, que son linealmente independientes. Cuando tenemos que en nuestra matriz de covarianza, existen columnas que no son linealmente independientes, son combinaciones lineales de otras variables (columnas). Cuando tenemos un eigenvalor que es igual o casi cero, es posible que tengamos que una de las columnas no tiene independencia lineal. \n",
        "\n",
        "Por ejemplo, esta matriz es la resultante de las **U**, la última columna tiene los mismos valores, lo cual es un indicador que no hay independencia lineal en alguno de los valores\n",
        "\n",
        "$$\n",
        "\\left[\\begin{array}{rrr}\n",
        ".4174 & -.7017 & -.5774 \\\\\n",
        ".3990 & .7124 & -.5774 \\\\\n",
        ".8164 & .0107 & .5774\n",
        "\\end{array}\\right]\n",
        "$$\n",
        "\n",
        "es posible, cuando se detecta que no existe independencia lineal, encontrar las variables que en conjunto son una combinación lineal de una columna, y descartar la columna ya que no tiene significancia en el análisis. \n",
        "\n",
        "## Lectura de archivos en C"
      ],
      "metadata": {
        "id": "c1mT1JRfXBG3"
      }
    },
    {
      "cell_type": "code",
      "source": [
        "%%writefile lectura.c\n",
        "\n",
        "#include <stdio.h>\n",
        "\n",
        "int main()\n",
        "{\n",
        "    \n",
        "    \n",
        "    char linea[] = \"10,2,3,4,5\";\n",
        "    \n",
        "    char* current = linea;\n",
        "    int column = 0;\n",
        "    \n",
        "    do{\n",
        "        column += ( *current == ',' );\n",
        "\n",
        "    } while( *current ++);\n",
        "    \n",
        "    \n",
        "    // Convert to binary\n",
        "    \n",
        "    double vector[10];\n",
        "    current = linea;\n",
        "    int length;\n",
        "    double* cell = vector;\n",
        "    int i = column; \n",
        "    \n",
        "    do{\n",
        "        \n",
        "        current += length;\n",
        "        sscanf( current, \"%lf,%n\", cell ++, &length );\n",
        "        \n",
        "    } while(i--);\n",
        "    \n",
        "    current += length;\n",
        "    sscanf( current, \"%lf\", cell );\n",
        "    \n",
        "    i = column;\n",
        "    cell = vector;\n",
        "    \n",
        "    do{\n",
        "        \n",
        "        printf(\"%lf\\n\", *cell ++);\n",
        "\n",
        "    } while( i-- );\n",
        "    \n",
        "    printf( \"%lf, %d\", *vector , length );\n",
        "    \n",
        "    \n",
        "    \n",
        "\n",
        "    return 0;\n",
        "}\n"
      ],
      "metadata": {
        "colab": {
          "base_uri": "https://localhost:8080/"
        },
        "id": "W7-lyV3gs5tb",
        "outputId": "b6afde26-82db-43fd-d3e4-61b73af42c1b"
      },
      "execution_count": null,
      "outputs": [
        {
          "output_type": "stream",
          "name": "stdout",
          "text": [
            "Writing lectura.c\n"
          ]
        }
      ]
    },
    {
      "cell_type": "code",
      "source": [
        "%%shell\n",
        "gcc lectura.c -o lectura\n",
        "./lectura"
      ],
      "metadata": {
        "colab": {
          "base_uri": "https://localhost:8080/"
        },
        "id": "uifw0G1lvSAn",
        "outputId": "28d61c8e-69ef-4ed0-b998-6a48cd18f73a"
      },
      "execution_count": null,
      "outputs": [
        {
          "output_type": "stream",
          "name": "stdout",
          "text": [
            "10.000000\n",
            "2.000000\n",
            "3.000000\n",
            "4.000000\n",
            "5.000000\n",
            "10.000000, 2"
          ]
        },
        {
          "output_type": "execute_result",
          "data": {
            "text/plain": [
              ""
            ]
          },
          "metadata": {},
          "execution_count": 2
        }
      ]
    },
    {
      "cell_type": "code",
      "source": [
        ""
      ],
      "metadata": {
        "id": "-FdHnT8DvWW5"
      },
      "execution_count": null,
      "outputs": []
    }
  ]
}