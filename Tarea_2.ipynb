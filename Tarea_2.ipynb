{
  "nbformat": 4,
  "nbformat_minor": 0,
  "metadata": {
    "colab": {
      "name": "Tarea_2.ipynb",
      "provenance": [],
      "authorship_tag": "ABX9TyOBU7zvkWgOPIZ00wsnM+Yi",
      "include_colab_link": true
    },
    "kernelspec": {
      "name": "python3",
      "display_name": "Python 3"
    },
    "language_info": {
      "name": "python"
    }
  },
  "cells": [
    {
      "cell_type": "markdown",
      "metadata": {
        "id": "view-in-github",
        "colab_type": "text"
      },
      "source": [
        "<a href=\"https://colab.research.google.com/github/GuillermoSego/TSF/blob/main/Tarea_2.ipynb\" target=\"_parent\"><img src=\"https://colab.research.google.com/assets/colab-badge.svg\" alt=\"Open In Colab\"/></a>"
      ]
    },
    {
      "cell_type": "markdown",
      "source": [
        "# Optimización de procesos \n",
        "\n",
        "**Tarea**: Escribir un programa que te diga el timepo de ejecución del programa ejecutando el *algoritmo de Horner* dentro y fuera de la rutina. Utilizar el llenado del arreglo como en el programa pasado, para guardar los valores.\n",
        "\n",
        "## Fuera de la rutina\n",
        "\n",
        "El algoritmo de Horner con el programa ejecutando fuera de la rutina\n"
      ],
      "metadata": {
        "id": "-2IQplpZpvzK"
      }
    },
    {
      "cell_type": "code",
      "source": [
        "%%writefile fuera.c\n",
        "\n",
        "#include <stdio.h>\n",
        "#include <time.h>\n",
        "\n",
        "// La cantidad de veces que se realiza el programa\n",
        "#define ELEMENTS 1000000\n",
        "\n",
        "\n",
        "double HornerRule( double x, double *coeff , int nCoeff){\n",
        "    \n",
        "    double accum = coeff[0];\n",
        "    int index = 1;\n",
        "\n",
        "    do{\n",
        "        accum = accum*x + coeff[index];\n",
        "        index ++;\n",
        "    } while(index < nCoeff); \n",
        "    \n",
        "    return accum;\n",
        "    \n",
        "}\n",
        "\n",
        "int main()\n",
        "{\n",
        "    clock_t start_t, end_t, total_t;\n",
        "    int i;\n",
        "    \n",
        "    // Se imprime cuando empieza el programa\n",
        "    printf(\"Empezo el programa, start_t = %ld\\n\", start_t); \n",
        "    \n",
        "    // El contenido del programa\n",
        "    \n",
        "    double coeff[] = {2,-5, 10};\n",
        "    \n",
        "    double x = -3;\n",
        "    int n = ELEMENTS;\n",
        "    \n",
        "    // Se ejecuta el programa pero se llama el algoritmo de horner a cada paso\n",
        "    do{\n",
        "        HornerRule(x, coeff, sizeof(coeff) / sizeof(double));\n",
        "        x += 0.1;\n",
        "        \n",
        "    } while(-- n);\n",
        "    \n",
        "    \n",
        "    // Tiempo que se tardo\n",
        "    end_t = clock();\n",
        "\n",
        "\n",
        "    printf(\"Termino del programa, end_t = %ld\\n\", end_t);\n",
        "    \n",
        "    total_t = (double)(end_t - start_t) / CLOCKS_PER_SEC;\n",
        "    printf(\"Tiempo total del CPU: %ld\\n\", total_t  );\n",
        "    printf(\"Exiting of the program...\\n\");\n",
        " \n",
        "    return 0;\n",
        "}"
      ],
      "metadata": {
        "colab": {
          "base_uri": "https://localhost:8080/"
        },
        "id": "rZ34cfM4q_rz",
        "outputId": "bfd40063-4d56-45af-990f-301c157897c7"
      },
      "execution_count": 1,
      "outputs": [
        {
          "output_type": "stream",
          "name": "stdout",
          "text": [
            "Writing fuera.c\n"
          ]
        }
      ]
    },
    {
      "cell_type": "code",
      "source": [
        "%%shell\n",
        "gcc fuera.c -o fuera\n",
        "./fuera"
      ],
      "metadata": {
        "colab": {
          "base_uri": "https://localhost:8080/"
        },
        "id": "IHiTEmrwred9",
        "outputId": "2eb410ad-9b52-4190-b9b6-b047bbbc35a4"
      },
      "execution_count": 2,
      "outputs": [
        {
          "output_type": "stream",
          "name": "stdout",
          "text": [
            "Empezo el programa, start_t = 94895108938013\n",
            "Termino del programa, end_t = 19567\n",
            "Tiempo total del CPU: -94895108\n",
            "Exiting of the program...\n"
          ]
        },
        {
          "output_type": "execute_result",
          "data": {
            "text/plain": [
              ""
            ]
          },
          "metadata": {},
          "execution_count": 2
        }
      ]
    },
    {
      "cell_type": "markdown",
      "source": [
        "## Dentro de la rutina\n",
        "\n",
        "El algoritmo de Horner con el programa ejecutando dentro de la rutina"
      ],
      "metadata": {
        "id": "BWUBAiCXrsKF"
      }
    },
    {
      "cell_type": "code",
      "source": [
        "%%writefile dentro.c\n",
        "\n",
        "#include <stdio.h>\n",
        "#include <time.h>\n",
        "\n",
        "#define ELEMENTS 1000000\n",
        "\n",
        "/*\n",
        "Se tiene que agregar a la funcion dos parámetros mas. El número de \n",
        "veces que se va ejecutar y un arreglo para guardar los valores del \n",
        "algoritmo a cada paso.\n",
        "*/\n",
        "\n",
        "double HornerRule( double x, double *coeff , int nCoeff, int n, double *Valores){\n",
        "    \n",
        "    double accum = coeff[0];\n",
        "    int index = 1;\n",
        "    int i = 1;\n",
        "\n",
        "    // Se crea un ciclo adicional donde se ejecuta todo el programa\n",
        "    do {\n",
        "        do{\n",
        "            accum = accum*x + coeff[index];\n",
        "            index ++;\n",
        "        } while(index < nCoeff); \n",
        "    \n",
        "    Valores[i] = accum;\n",
        "    x += 0.1;\n",
        "    i ++;\n",
        "    } while(--n);\n",
        "}\n",
        "\n",
        "\n",
        "int main()\n",
        "{\n",
        "    clock_t start_t, end_t, total_t;\n",
        "    int i;\n",
        "    \n",
        "    // Se imprime cuando empieza el programa\n",
        "    printf(\"Empezo el programa, start_t = %ld\\n\", start_t); \n",
        "    \n",
        "    // El contenido del programa\n",
        "    \n",
        "    double coeff[] = {2,-5, 10};\n",
        "    \n",
        "    // Se crea el arreglo para guardar los valores totale del algoritmo\n",
        "    double Valores[ELEMENTS]; \n",
        "    \n",
        "    double x = -3;\n",
        "    int n = ELEMENTS;\n",
        "    \n",
        "    // Se manda llamar la funcion\n",
        "    HornerRule(x, coeff, sizeof(coeff) / sizeof(double), n, Valores);\n",
        "\n",
        "    // Tiempo que se tardo\n",
        "    end_t = clock();\n",
        "\n",
        "\n",
        "    printf(\"Termino del programa, end_t = %ld\\n\", end_t);\n",
        "    \n",
        "    total_t = (double)(end_t - start_t) / CLOCKS_PER_SEC;\n",
        "    printf(\"Tiempo total del CPU: %ld\\n\", total_t  );\n",
        "    printf(\"Exiting of the program...\\n\");\n",
        " \n",
        "    return 0;\n",
        "}"
      ],
      "metadata": {
        "colab": {
          "base_uri": "https://localhost:8080/"
        },
        "id": "fCwn1kK8rkz5",
        "outputId": "c6dbe508-b92a-4098-cbd0-d2963ae5a068"
      },
      "execution_count": 3,
      "outputs": [
        {
          "output_type": "stream",
          "name": "stdout",
          "text": [
            "Writing dentro.c\n"
          ]
        }
      ]
    },
    {
      "cell_type": "code",
      "source": [
        "%%shell\n",
        "gcc dentro.c -o dentro\n",
        "./dentro"
      ],
      "metadata": {
        "colab": {
          "base_uri": "https://localhost:8080/"
        },
        "id": "-nztAPVXsnWx",
        "outputId": "80c054b1-03e7-4572-e005-8b40b779d869"
      },
      "execution_count": 4,
      "outputs": [
        {
          "output_type": "stream",
          "name": "stdout",
          "text": [
            "Empezo el programa, start_t = 0\n",
            "Termino del programa, end_t = 20705\n",
            "Tiempo total del CPU: 0\n",
            "Exiting of the program...\n"
          ]
        },
        {
          "output_type": "execute_result",
          "data": {
            "text/plain": [
              ""
            ]
          },
          "metadata": {},
          "execution_count": 4
        }
      ]
    },
    {
      "cell_type": "markdown",
      "source": [
        "## Notas\n",
        "\n",
        "El tiempo inicial del programa cuando el algoritmo se ejecuta fuera es mucho, esto es por que cuando el programa se ejecuta afuera se tiene que reservar memoria. Cuando el algoritmo se ejecuta dentro de la rutina, la memoria se reserva dentro del slack la cual es muy rápida, por lo que el tiempo es practicamente 0. \n",
        "\n",
        "Aunque el tiempo final de ejecución del programa es menor en el programa fuera de la rutina, al final la diferencia es mucha con respecto al programa que se ejecuta dentro, el cual es mas óptimo en comparación del otro. "
      ],
      "metadata": {
        "id": "HMji8H86svv9"
      }
    }
  ]
}