{
  "nbformat": 4,
  "nbformat_minor": 0,
  "metadata": {
    "colab": {
      "name": "Clase_7.ipynb",
      "provenance": [],
      "authorship_tag": "ABX9TyPbx8Vc16juf/IHGqHQOtje",
      "include_colab_link": true
    },
    "kernelspec": {
      "name": "python3",
      "display_name": "Python 3"
    },
    "language_info": {
      "name": "python"
    }
  },
  "cells": [
    {
      "cell_type": "markdown",
      "metadata": {
        "id": "view-in-github",
        "colab_type": "text"
      },
      "source": [
        "<a href=\"https://colab.research.google.com/github/GuillermoSego/TSF/blob/main/Clase_7.ipynb\" target=\"_parent\"><img src=\"https://colab.research.google.com/assets/colab-badge.svg\" alt=\"Open In Colab\"/></a>"
      ]
    },
    {
      "cell_type": "markdown",
      "source": [
        "# Repaso C\n",
        "\n",
        "## Arreglos en C\n",
        "\n",
        "Lo primero que vamos a ver son los arreglos en c. Un arreglo es una estrutura de datos consistentes en datos del mismo tipo. Tienen un tamaño que es la cantidad de objetos del mismo tipo que pueden almacenar. Son entidades estáticas debido a que se declaran de un cierto tamaño y conservan este tamaño a lo largo de la ejecución del programa. \n",
        "\n",
        "Por ejemplo, el siguiente programa imprime los elementos de un arreglo. El arreglo es de tipo entero y se llena aleatoriamente con elementos de la memoria."
      ],
      "metadata": {
        "id": "jxg5C3uStWtl"
      }
    },
    {
      "cell_type": "code",
      "source": [
        "%%writefile arreglo.c\n",
        "\n",
        "#include <stdio.h>\n",
        "\n",
        "int main()\n",
        "{\n",
        " \n",
        "    int array[10];\n",
        "    int i = 0;\n",
        "    \n",
        "    do{\n",
        "        printf(\"%d \\n\" ,array[i]);\n",
        "        i ++ ;\n",
        "    } while(i<10);\n",
        "\n",
        "    return 0;\n",
        "}"
      ],
      "metadata": {
        "colab": {
          "base_uri": "https://localhost:8080/"
        },
        "id": "OGz1zi1LtbQw",
        "outputId": "b789a083-5238-431b-d36d-3ed01934c475"
      },
      "execution_count": 1,
      "outputs": [
        {
          "output_type": "stream",
          "name": "stdout",
          "text": [
            "Writing arreglo.c\n"
          ]
        }
      ]
    },
    {
      "cell_type": "code",
      "source": [
        "%%shell\n",
        "gcc arreglo.c -o arreglo\n",
        "./arreglo"
      ],
      "metadata": {
        "colab": {
          "base_uri": "https://localhost:8080/"
        },
        "id": "74-8m_jDte4O",
        "outputId": "4f4db7dd-e580-4206-81bc-efe308eae7db"
      },
      "execution_count": 2,
      "outputs": [
        {
          "output_type": "stream",
          "name": "stdout",
          "text": [
            "-1990436032 \n",
            "32693 \n",
            "0 \n",
            "0 \n",
            "-728279280 \n",
            "22045 \n",
            "-728279648 \n",
            "22045 \n",
            "2136049344 \n",
            "32767 \n"
          ]
        },
        {
          "output_type": "execute_result",
          "data": {
            "text/plain": [
              ""
            ]
          },
          "metadata": {},
          "execution_count": 2
        }
      ]
    },
    {
      "cell_type": "markdown",
      "source": [
        "## Apuntadores en C\n",
        "\n",
        "Los apuntadores son una de las mas poderosas herramientas que posee el lenguaje C. Permite al programa el *paso por referencia* para pasar elementos entre las funciones, además de crear y manipular estruturas dinámicas. \n",
        "\n",
        "Un apuntador es una variable a una dirección específica. Por ejemplo tomemos un arreglo, un apuntador, \"apunta\" en la dirección del primer elemento del arreglo. \n",
        "\n",
        "Todos los compiladores tienen un optmizador, cuando el compilador detecta que se va hacer una suma con índices el optimizador detecta esto y traduce los índices a apuntadores. \n",
        "\n",
        "La manera de declarar un apuntador es utilizando el operador de referencia (\\*). Y se apunta el *pointer* para que apunte en la dirección de una variable o un arreglo.\n",
        "\n",
        "La aritmética de apuntadores depende del tipo de datos, ya sea enteros, doubles, etc. Si por ejemplo el apuntador es entero, cada una de las separaciones entre los elementos de un arreglo son 4 bits. Si ahora tenemos un apuntador que es double, cambia la separación entre los elementos del arreglo que tenemos como apuntador. \n",
        "\n",
        "La aritmética de apuntadores, es cuando sumas un lugar en un apuntador. Por ejemplo en C"
      ],
      "metadata": {
        "id": "GZ_kWlq2_mwG"
      }
    },
    {
      "cell_type": "code",
      "source": [
        "%%writefile apunta.c\n",
        "\n",
        "#include <stdio.h>\n",
        "\n",
        "int main()\n",
        "{\n",
        " \n",
        "    int array[] = {4,5,6,7,8,9,10}, i = 0;\n",
        "    int* apuntador = array;\n",
        "    \n",
        "    /*\n",
        "    La instrucción (apuntador ++) es aritmética de apuntadores, se apunta en la \n",
        "    dirección siguiente\n",
        "    */\n",
        "    \n",
        "    do{\n",
        "        printf(\"%d \\n\", *apuntador++);\n",
        "        i ++ ;\n",
        "    } while(i<sizeof(array) / sizeof(int));\n",
        "\n",
        "    return 0;\n",
        "}\n"
      ],
      "metadata": {
        "colab": {
          "base_uri": "https://localhost:8080/"
        },
        "id": "ZxWN9wmlDvvK",
        "outputId": "cf927414-e00c-4cbf-9762-8265ffb623b6"
      },
      "execution_count": 30,
      "outputs": [
        {
          "output_type": "stream",
          "name": "stdout",
          "text": [
            "Overwriting apunta.c\n"
          ]
        }
      ]
    },
    {
      "cell_type": "code",
      "source": [
        "%%shell\n",
        "\n",
        "gcc apunta.c -o apunta\n",
        "./apunta"
      ],
      "metadata": {
        "colab": {
          "base_uri": "https://localhost:8080/"
        },
        "id": "T8AFg_e0FOLR",
        "outputId": "d9c97d5b-2446-49fe-9482-fc52f022d2c3"
      },
      "execution_count": 31,
      "outputs": [
        {
          "output_type": "stream",
          "name": "stdout",
          "text": [
            "4 \n",
            "5 \n",
            "6 \n",
            "7 \n",
            "8 \n",
            "9 \n",
            "10 \n"
          ]
        },
        {
          "output_type": "execute_result",
          "data": {
            "text/plain": [
              ""
            ]
          },
          "metadata": {},
          "execution_count": 31
        }
      ]
    },
    {
      "cell_type": "markdown",
      "source": [
        "Cuando le ponemos un (*) se conoce como referencia. Es: dame lo que tengo en ese lugar. va apuntando a la dirección que nosotros le digamos. La ventaja de los apuntadores es porque puedes pensar en términos de celdas en lugar de términos de memoria.  \n",
        "\n",
        "Podemos conocer el tamaño de las variables, mediante la instrucción *sizeof*"
      ],
      "metadata": {
        "id": "BtNRp3MFD6Mq"
      }
    },
    {
      "cell_type": "code",
      "source": [
        "%%writefile size.c\n",
        "\n",
        "#include <stdio.h>\n",
        "\n",
        "int main()\n",
        "{\n",
        "    printf(\"%lu\", sizeof(int));\n",
        "\n",
        "    return 0;\n",
        "}\n"
      ],
      "metadata": {
        "id": "A_upIqfWF3NY",
        "colab": {
          "base_uri": "https://localhost:8080/"
        },
        "outputId": "d7c37a5a-eab3-4fb8-acea-cd416d950e25"
      },
      "execution_count": 41,
      "outputs": [
        {
          "output_type": "stream",
          "name": "stdout",
          "text": [
            "Overwriting size.c\n"
          ]
        }
      ]
    },
    {
      "cell_type": "code",
      "source": [
        "%%shell\n",
        "\n",
        "gcc size.c -o size \n",
        "./size"
      ],
      "metadata": {
        "id": "RsTxGK1lF6bT",
        "colab": {
          "base_uri": "https://localhost:8080/"
        },
        "outputId": "a10addd6-1656-45b8-d878-b87c8e015bcf"
      },
      "execution_count": 42,
      "outputs": [
        {
          "output_type": "stream",
          "name": "stdout",
          "text": [
            "4"
          ]
        },
        {
          "output_type": "execute_result",
          "data": {
            "text/plain": [
              ""
            ]
          },
          "metadata": {},
          "execution_count": 42
        }
      ]
    },
    {
      "cell_type": "markdown",
      "source": [
        "el tamaño de un *int* son 4 bytes. \n",
        "\n",
        "## Mostrar una matriz \n",
        "\n",
        "Implementamos una rutina para mostar una matriz."
      ],
      "metadata": {
        "id": "qg62QapdJuxj"
      }
    },
    {
      "cell_type": "code",
      "source": [
        "%%writefile show.c\n",
        "\n",
        "#include <stdio.h>\n",
        "\n",
        "#define UINT unsigned int \n",
        "#define NROWS sizeof( method1 ) / sizeof( double )\n",
        "#define N_OUT sizeof( input ) / sizeof ( double)\n",
        "\n",
        "void ShowMatrix( double matrix[], UINT columns ,UINT elements ){\n",
        "    \n",
        "    double last = *matrix + elements;\n",
        "    do{\n",
        "        UINT nCols = columns;\n",
        "        do{\n",
        "            printf( \"%5.2lf\", *matrix ++ );\n",
        "        } while( -- nCols );\n",
        "        \n",
        "        printf(\"\\n\");\n",
        "    } while( last != *matrix );\n",
        "    \n",
        "    printf( \"\\n\" );    \n",
        "}\n",
        "\n",
        "int main( void )\n",
        "{\n",
        "    \n",
        "    double matrix[] = {1,2,3,4,5,6,7,8,9,10,11,12};\n",
        "    ShowMatrix(matrix, 1, 12);\n",
        "    \n",
        "    return 0;\n",
        "}\n"
      ],
      "metadata": {
        "id": "FWXMzfZjJvKV",
        "colab": {
          "base_uri": "https://localhost:8080/"
        },
        "outputId": "ae86d186-219c-416c-f8b1-20b696560a11"
      },
      "execution_count": 43,
      "outputs": [
        {
          "output_type": "stream",
          "name": "stdout",
          "text": [
            "Writing show.c\n"
          ]
        }
      ]
    },
    {
      "cell_type": "code",
      "source": [
        ""
      ],
      "metadata": {
        "id": "tkKParfpbLWQ"
      },
      "execution_count": null,
      "outputs": []
    }
  ]
}