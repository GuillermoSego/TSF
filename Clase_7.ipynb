{
  "nbformat": 4,
  "nbformat_minor": 0,
  "metadata": {
    "colab": {
      "name": "Clase_7.ipynb",
      "provenance": [],
      "authorship_tag": "ABX9TyOKzXWZ6Sp4dK6vGiRukSrn",
      "include_colab_link": true
    },
    "kernelspec": {
      "name": "python3",
      "display_name": "Python 3"
    },
    "language_info": {
      "name": "python"
    }
  },
  "cells": [
    {
      "cell_type": "markdown",
      "metadata": {
        "id": "view-in-github",
        "colab_type": "text"
      },
      "source": [
        "<a href=\"https://colab.research.google.com/github/GuillermoSego/TSF/blob/main/Clase_7.ipynb\" target=\"_parent\"><img src=\"https://colab.research.google.com/assets/colab-badge.svg\" alt=\"Open In Colab\"/></a>"
      ]
    },
    {
      "cell_type": "markdown",
      "source": [
        "Todos los compiladores tienen un optmizador, cuando el compilador detecta que se va hacer una suma con índices el optimizador detecta esto y traduce los índices a apuntadores. \n",
        "\n",
        "Un apuntador es una variable a una dirección específica. Por ejemplo tomemos un arreglo, un apuntador, \"apunta\" en la dirección del primer elemento del arreglo. \n",
        "\n",
        "La aritmética de apuntadores depende del tipo de datos, ya sea enteros, doubles, etc. Si por ejemplo el apuntador es entero, cada una de las separaciones entre los elementos de un arreglo son 4 bits. Si ahora tenemos un apuntador que es double, cambia la separación entre los elementos del arreglo que tenemos como apuntador. \n",
        "\n",
        "La aritmética de apuntadores, es cuando sumas un lugar en un apuntador. Por ejemplo en C"
      ],
      "metadata": {
        "id": "GZ_kWlq2_mwG"
      }
    },
    {
      "cell_type": "code",
      "source": [
        "%%writefile apunta.c\n",
        "\n",
        "#include <stdio.h>\n",
        "\n",
        "int main()\n",
        "{\n",
        "    int *array[] = {4,5};\n",
        "\n",
        "    /*\n",
        "    La instrucción (array + 1) es aritmética de apuntadores, se apunta en la \n",
        "    dirección siguiente\n",
        "    */\n",
        "\n",
        "    printf(\"%d\", array[1]);\n",
        "\n",
        "    return 0;\n",
        "}\n"
      ],
      "metadata": {
        "colab": {
          "base_uri": "https://localhost:8080/"
        },
        "id": "ZxWN9wmlDvvK",
        "outputId": "4f0db6d7-2dc4-49e1-c256-06c560940fcf"
      },
      "execution_count": 31,
      "outputs": [
        {
          "output_type": "stream",
          "name": "stdout",
          "text": [
            "Overwriting apunta.c\n"
          ]
        }
      ]
    },
    {
      "cell_type": "code",
      "source": [
        "%%shell\n",
        "\n",
        "gcc apunta.c -o apunta\n",
        "./apunta"
      ],
      "metadata": {
        "colab": {
          "base_uri": "https://localhost:8080/"
        },
        "id": "T8AFg_e0FOLR",
        "outputId": "242d137a-0295-4bc5-8d97-7c336a1aa923"
      },
      "execution_count": 32,
      "outputs": [
        {
          "output_type": "stream",
          "name": "stdout",
          "text": [
            "\u001b[01m\u001b[Kapunta.c:\u001b[m\u001b[K In function ‘\u001b[01m\u001b[Kmain\u001b[m\u001b[K’:\n",
            "\u001b[01m\u001b[Kapunta.c:6:21:\u001b[m\u001b[K \u001b[01;35m\u001b[Kwarning: \u001b[m\u001b[Kinitialization makes pointer from integer without a cast [\u001b[01;35m\u001b[K-Wint-conversion\u001b[m\u001b[K]\n",
            "     int *array[] = {\u001b[01;35m\u001b[K4\u001b[m\u001b[K,5};\n",
            "                     \u001b[01;35m\u001b[K^\u001b[m\u001b[K\n",
            "\u001b[01m\u001b[Kapunta.c:6:21:\u001b[m\u001b[K \u001b[01;36m\u001b[Knote: \u001b[m\u001b[K(near initialization for ‘\u001b[01m\u001b[Karray[0]\u001b[m\u001b[K’)\n",
            "\u001b[01m\u001b[Kapunta.c:6:23:\u001b[m\u001b[K \u001b[01;35m\u001b[Kwarning: \u001b[m\u001b[Kinitialization makes pointer from integer without a cast [\u001b[01;35m\u001b[K-Wint-conversion\u001b[m\u001b[K]\n",
            "     int *array[] = {4,\u001b[01;35m\u001b[K5\u001b[m\u001b[K};\n",
            "                       \u001b[01;35m\u001b[K^\u001b[m\u001b[K\n",
            "\u001b[01m\u001b[Kapunta.c:6:23:\u001b[m\u001b[K \u001b[01;36m\u001b[Knote: \u001b[m\u001b[K(near initialization for ‘\u001b[01m\u001b[Karray[1]\u001b[m\u001b[K’)\n",
            "\u001b[01m\u001b[Kapunta.c:13:14:\u001b[m\u001b[K \u001b[01;35m\u001b[Kwarning: \u001b[m\u001b[Kformat ‘\u001b[01m\u001b[K%d\u001b[m\u001b[K’ expects argument of type ‘\u001b[01m\u001b[Kint\u001b[m\u001b[K’, but argument 2 has type ‘\u001b[01m\u001b[Kint *\u001b[m\u001b[K’ [\u001b[01;35m\u001b[K-Wformat=\u001b[m\u001b[K]\n",
            "     printf(\"\u001b[01;35m\u001b[K%d\u001b[m\u001b[K\", \u001b[32m\u001b[Karray[1]\u001b[m\u001b[K);\n",
            "             \u001b[01;35m\u001b[K~^\u001b[m\u001b[K   \u001b[32m\u001b[K~~~~~~~~\u001b[m\u001b[K\n",
            "             \u001b[32m\u001b[K%ls\u001b[m\u001b[K\n",
            "5"
          ]
        },
        {
          "output_type": "execute_result",
          "data": {
            "text/plain": [
              ""
            ]
          },
          "metadata": {},
          "execution_count": 32
        }
      ]
    },
    {
      "cell_type": "markdown",
      "source": [
        "Cuando le ponemos un (*) se conoce como referencia. Es: dame lo que tengo en ese lugar. va apuntando a la dirección que nosotros le digamos. La ventaja de los apuntadores es porque puedes pensar en términos de celdas en lugar de términos de memoria.  "
      ],
      "metadata": {
        "id": "BtNRp3MFD6Mq"
      }
    },
    {
      "cell_type": "code",
      "source": [
        "//El tamaño de las variables\n",
        "\n",
        "#include <stdio.h>\n",
        "\n",
        "int main()\n",
        "{\n",
        "    printf(\"%u\", sizeof(int));\n",
        "\n",
        "    return 0;\n",
        "}\n"
      ],
      "metadata": {
        "id": "A_upIqfWF3NY"
      },
      "execution_count": null,
      "outputs": []
    },
    {
      "cell_type": "code",
      "source": [
        ""
      ],
      "metadata": {
        "id": "RsTxGK1lF6bT"
      },
      "execution_count": null,
      "outputs": []
    },
    {
      "cell_type": "markdown",
      "source": [
        "## La covarianza\n",
        "\n",
        "Calculamos la covarianza utilizando la siguiente ecuación\n",
        "$$\n",
        "S_{xy} = \\frac{1}{n-1} \\sum_{i=1}^{n} (x_i-x)(y_i-y)\n",
        "$$\n",
        "\n",
        "Implementaremos una rutina para calcular la covarianza"
      ],
      "metadata": {
        "id": "qg62QapdJuxj"
      }
    },
    {
      "cell_type": "code",
      "source": [
        "#include <stdio.h>\n",
        "\n",
        "#define UINT unsigned int \n",
        "#define NROWS sizeof( method1 ) / sizeof( double )\n",
        "#define N_OUT sizeof( input ) / sizeof ( double)\n",
        "\n",
        "void ShowMatrix( double matrix[], UINT columns ,UINT elements ){\n",
        "    \n",
        "    double last = *matrix + elements;\n",
        "    do{\n",
        "        UINT nCols = columns;\n",
        "        do{\n",
        "            printf( \"%5.2lf\", *matrix ++ );\n",
        "        } while( -- nCols );\n",
        "        \n",
        "        printf(\"\\n\");\n",
        "    } while( last != *matrix );\n",
        "    \n",
        "    printf( \"\\n\" );    \n",
        "}\n",
        "\n",
        "int main( void )\n",
        "{\n",
        "    \n",
        "    double matrix[] = {1,2,3,4,5,6,7,8,9,10,11,12};\n",
        "    ShowMatrix(matrix, 1, 12);\n",
        "    \n",
        "    return 0;\n",
        "}\n"
      ],
      "metadata": {
        "id": "FWXMzfZjJvKV"
      },
      "execution_count": null,
      "outputs": []
    }
  ]
}