{
  "nbformat": 4,
  "nbformat_minor": 0,
  "metadata": {
    "colab": {
      "name": "MinFunction.ipynb",
      "provenance": [],
      "authorship_tag": "ABX9TyNmNOvCfMn92R4/OJobhHVd",
      "include_colab_link": true
    },
    "kernelspec": {
      "name": "python3",
      "display_name": "Python 3"
    },
    "language_info": {
      "name": "python"
    }
  },
  "cells": [
    {
      "cell_type": "markdown",
      "metadata": {
        "id": "view-in-github",
        "colab_type": "text"
      },
      "source": [
        "<a href=\"https://colab.research.google.com/github/GuillermoSego/TSF/blob/main/MinFunction.ipynb\" target=\"_parent\"><img src=\"https://colab.research.google.com/assets/colab-badge.svg\" alt=\"Open In Colab\"/></a>"
      ]
    },
    {
      "cell_type": "markdown",
      "source": [
        "# Programa del cálculo del valor mínimo de un arreglo\n",
        "\n",
        "Este programa calcula el valor mínimo de un arreglo. Se hace comparando todos los valore entre sí.\n"
      ],
      "metadata": {
        "id": "Xd2WVDcUernV"
      }
    },
    {
      "cell_type": "code",
      "execution_count": 1,
      "metadata": {
        "colab": {
          "base_uri": "https://localhost:8080/"
        },
        "id": "OQc_8LRMenz_",
        "outputId": "409027d3-cd4a-4da4-e234-61b300c84d02"
      },
      "outputs": [
        {
          "output_type": "stream",
          "name": "stdout",
          "text": [
            "Writing Min.c\n"
          ]
        }
      ],
      "source": [
        "%%writefile Min.c\n",
        "\n",
        "// Calculo del minimo de un arreglo\n",
        "\n",
        "#include <stdio.h>\n",
        "\n",
        "double min(double v[], int s)\n",
        "{\n",
        "    \n",
        "    // Apuntamos\n",
        "    double* vPtr = v;\n",
        "    \n",
        "    // Donde guardamos el minimo\n",
        "    double m;\n",
        "    \n",
        "    int i = 0;\n",
        "    \n",
        "    // Guardamos el primer valor del arreglo en m\n",
        "    m = *vPtr;\n",
        "    \n",
        "    do {\n",
        "        \n",
        "        // Comparamos\n",
        "        if (*vPtr <= m) {\n",
        "            \n",
        "            m = *vPtr;\n",
        "            \n",
        "        }\n",
        "        \n",
        "        vPtr ++;\n",
        "        i ++;\n",
        "        \n",
        "    } while(i< s);\n",
        "    \n",
        "    return m;\n",
        "    \n",
        "}\n",
        "\n",
        "int main()\n",
        "{\n",
        "    \n",
        "    double array[] = {98,2,3,4,15,6,7,4,9,16,4,8,9,45,78,25,3,4,1,8,9,4};\n",
        "    \n",
        "    // Guardamos el tamaño del arreglo\n",
        "    int size;\n",
        "    \n",
        "    // Calculamos el tamaño\n",
        "    size = sizeof(array) / sizeof(double);\n",
        "    \n",
        "    double a;\n",
        "    \n",
        "    // El valor minimo\n",
        "    a =  min(array, size);\n",
        "    \n",
        "    printf(\"El valor minimo del arreglo es: %lf\",  a );\n",
        "\n",
        "    return 0;\n",
        "\n",
        "}"
      ]
    },
    {
      "cell_type": "code",
      "source": [
        "%%shell\n",
        "\n",
        "gcc Min.c -o output\n",
        "./output"
      ],
      "metadata": {
        "colab": {
          "base_uri": "https://localhost:8080/"
        },
        "id": "O6jyy-eWe3BX",
        "outputId": "8a0198a6-d34f-48f8-e525-bd4b124242c2"
      },
      "execution_count": 2,
      "outputs": [
        {
          "output_type": "stream",
          "name": "stdout",
          "text": [
            "El valor minimo del arreglo es: 1.000000"
          ]
        },
        {
          "output_type": "execute_result",
          "data": {
            "text/plain": [
              ""
            ]
          },
          "metadata": {},
          "execution_count": 2
        }
      ]
    }
  ]
}